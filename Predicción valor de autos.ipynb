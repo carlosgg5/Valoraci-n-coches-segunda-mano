{
 "cells": [
  {
   "cell_type": "markdown",
   "metadata": {},
   "source": [
    "El servicio de venta de autos usados Rusty Bargain está desarrollando una aplicación para atraer nuevos clientes. Gracias a esa app, puedes averiguar rápidamente el valor de mercado de tu coche. Tienes acceso al historial: especificaciones técnicas, versiones de equipamiento y precios. Tienes que crear un modelo que determine el valor de mercado.\n",
    "A Rusty Bargain le interesa:\n",
    "- la calidad de la predicción;\n",
    "- la velocidad de la predicción;\n",
    "- el tiempo requerido para el entrenamiento"
   ]
  },
  {
   "cell_type": "markdown",
   "metadata": {},
   "source": [
    "## Introducción\n"
   ]
  },
  {
   "cell_type": "markdown",
   "metadata": {},
   "source": [
    "El objetivo de este proyecto probar diferentes métodos de potenciación de gradiente para compararlos con el modelo de regresión lineal y bosque aleatorio para evaluar su calidad para predecir el valor de mercado de los autos con base en diferentes características del auto como la marca, tipo de vehiculo, transmisión, si ha sido reparado, etc. Ademas de evaluar los tiempos de entrenamiento y predicción de los modelos."
   ]
  },
  {
   "cell_type": "markdown",
   "metadata": {},
   "source": [
    "## Preparación de datos"
   ]
  },
  {
   "cell_type": "code",
   "execution_count": 1,
   "metadata": {},
   "outputs": [],
   "source": [
    "import numpy as np\n",
    "import pandas as pd\n",
    "from sklearn.model_selection import train_test_split\n",
    "from sklearn.linear_model import LinearRegression\n",
    "from sklearn.metrics import mean_squared_error\n",
    "from sklearn.ensemble import RandomForestRegressor\n",
    "import lightgbm as lgb\n",
    "from catboost import CatBoostRegressor"
   ]
  },
  {
   "cell_type": "markdown",
   "metadata": {},
   "source": [
    "### Carga de datos"
   ]
  },
  {
   "cell_type": "code",
   "execution_count": 2,
   "metadata": {},
   "outputs": [],
   "source": [
    "df = pd.read_csv('/datasets/car_data.csv')"
   ]
  },
  {
   "cell_type": "code",
   "execution_count": 3,
   "metadata": {},
   "outputs": [
    {
     "name": "stdout",
     "output_type": "stream",
     "text": [
      "<class 'pandas.core.frame.DataFrame'>\n",
      "RangeIndex: 354369 entries, 0 to 354368\n",
      "Data columns (total 16 columns):\n",
      " #   Column             Non-Null Count   Dtype \n",
      "---  ------             --------------   ----- \n",
      " 0   DateCrawled        354369 non-null  object\n",
      " 1   Price              354369 non-null  int64 \n",
      " 2   VehicleType        316879 non-null  object\n",
      " 3   RegistrationYear   354369 non-null  int64 \n",
      " 4   Gearbox            334536 non-null  object\n",
      " 5   Power              354369 non-null  int64 \n",
      " 6   Model              334664 non-null  object\n",
      " 7   Mileage            354369 non-null  int64 \n",
      " 8   RegistrationMonth  354369 non-null  int64 \n",
      " 9   FuelType           321474 non-null  object\n",
      " 10  Brand              354369 non-null  object\n",
      " 11  NotRepaired        283215 non-null  object\n",
      " 12  DateCreated        354369 non-null  object\n",
      " 13  NumberOfPictures   354369 non-null  int64 \n",
      " 14  PostalCode         354369 non-null  int64 \n",
      " 15  LastSeen           354369 non-null  object\n",
      "dtypes: int64(7), object(9)\n",
      "memory usage: 43.3+ MB\n"
     ]
    }
   ],
   "source": [
    "#Usar método info para evaluar los datos\n",
    "df.info()"
   ]
  },
  {
   "cell_type": "code",
   "execution_count": 4,
   "metadata": {},
   "outputs": [
    {
     "data": {
      "text/html": [
       "<div>\n",
       "<style scoped>\n",
       "    .dataframe tbody tr th:only-of-type {\n",
       "        vertical-align: middle;\n",
       "    }\n",
       "\n",
       "    .dataframe tbody tr th {\n",
       "        vertical-align: top;\n",
       "    }\n",
       "\n",
       "    .dataframe thead th {\n",
       "        text-align: right;\n",
       "    }\n",
       "</style>\n",
       "<table border=\"1\" class=\"dataframe\">\n",
       "  <thead>\n",
       "    <tr style=\"text-align: right;\">\n",
       "      <th></th>\n",
       "      <th>DateCrawled</th>\n",
       "      <th>Price</th>\n",
       "      <th>VehicleType</th>\n",
       "      <th>RegistrationYear</th>\n",
       "      <th>Gearbox</th>\n",
       "      <th>Power</th>\n",
       "      <th>Model</th>\n",
       "      <th>Mileage</th>\n",
       "      <th>RegistrationMonth</th>\n",
       "      <th>FuelType</th>\n",
       "      <th>Brand</th>\n",
       "      <th>NotRepaired</th>\n",
       "      <th>DateCreated</th>\n",
       "      <th>NumberOfPictures</th>\n",
       "      <th>PostalCode</th>\n",
       "      <th>LastSeen</th>\n",
       "    </tr>\n",
       "  </thead>\n",
       "  <tbody>\n",
       "    <tr>\n",
       "      <th>304830</th>\n",
       "      <td>29/03/2016 14:47</td>\n",
       "      <td>350</td>\n",
       "      <td>wagon</td>\n",
       "      <td>1998</td>\n",
       "      <td>auto</td>\n",
       "      <td>131</td>\n",
       "      <td>mondeo</td>\n",
       "      <td>150000</td>\n",
       "      <td>7</td>\n",
       "      <td>petrol</td>\n",
       "      <td>ford</td>\n",
       "      <td>no</td>\n",
       "      <td>29/03/2016 00:00</td>\n",
       "      <td>0</td>\n",
       "      <td>12681</td>\n",
       "      <td>31/03/2016 07:45</td>\n",
       "    </tr>\n",
       "    <tr>\n",
       "      <th>233124</th>\n",
       "      <td>23/03/2016 14:52</td>\n",
       "      <td>4950</td>\n",
       "      <td>sedan</td>\n",
       "      <td>1997</td>\n",
       "      <td>manual</td>\n",
       "      <td>75</td>\n",
       "      <td>golf</td>\n",
       "      <td>40000</td>\n",
       "      <td>7</td>\n",
       "      <td>petrol</td>\n",
       "      <td>volkswagen</td>\n",
       "      <td>no</td>\n",
       "      <td>23/03/2016 00:00</td>\n",
       "      <td>0</td>\n",
       "      <td>87778</td>\n",
       "      <td>05/04/2016 17:21</td>\n",
       "    </tr>\n",
       "    <tr>\n",
       "      <th>120678</th>\n",
       "      <td>01/04/2016 20:39</td>\n",
       "      <td>3800</td>\n",
       "      <td>NaN</td>\n",
       "      <td>2017</td>\n",
       "      <td>manual</td>\n",
       "      <td>115</td>\n",
       "      <td>corsa</td>\n",
       "      <td>150000</td>\n",
       "      <td>0</td>\n",
       "      <td>NaN</td>\n",
       "      <td>opel</td>\n",
       "      <td>no</td>\n",
       "      <td>01/04/2016 00:00</td>\n",
       "      <td>0</td>\n",
       "      <td>94269</td>\n",
       "      <td>05/04/2016 17:26</td>\n",
       "    </tr>\n",
       "    <tr>\n",
       "      <th>117321</th>\n",
       "      <td>25/03/2016 08:53</td>\n",
       "      <td>550</td>\n",
       "      <td>small</td>\n",
       "      <td>1996</td>\n",
       "      <td>manual</td>\n",
       "      <td>0</td>\n",
       "      <td>1_reihe</td>\n",
       "      <td>150000</td>\n",
       "      <td>7</td>\n",
       "      <td>petrol</td>\n",
       "      <td>peugeot</td>\n",
       "      <td>no</td>\n",
       "      <td>25/03/2016 00:00</td>\n",
       "      <td>0</td>\n",
       "      <td>44141</td>\n",
       "      <td>28/03/2016 07:45</td>\n",
       "    </tr>\n",
       "    <tr>\n",
       "      <th>180819</th>\n",
       "      <td>02/04/2016 16:59</td>\n",
       "      <td>750</td>\n",
       "      <td>small</td>\n",
       "      <td>1996</td>\n",
       "      <td>manual</td>\n",
       "      <td>50</td>\n",
       "      <td>fiesta</td>\n",
       "      <td>125000</td>\n",
       "      <td>2</td>\n",
       "      <td>petrol</td>\n",
       "      <td>ford</td>\n",
       "      <td>no</td>\n",
       "      <td>02/04/2016 00:00</td>\n",
       "      <td>0</td>\n",
       "      <td>28779</td>\n",
       "      <td>02/04/2016 16:59</td>\n",
       "    </tr>\n",
       "    <tr>\n",
       "      <th>279231</th>\n",
       "      <td>10/03/2016 01:54</td>\n",
       "      <td>2950</td>\n",
       "      <td>NaN</td>\n",
       "      <td>2017</td>\n",
       "      <td>auto</td>\n",
       "      <td>0</td>\n",
       "      <td>NaN</td>\n",
       "      <td>150000</td>\n",
       "      <td>6</td>\n",
       "      <td>NaN</td>\n",
       "      <td>opel</td>\n",
       "      <td>NaN</td>\n",
       "      <td>09/03/2016 00:00</td>\n",
       "      <td>0</td>\n",
       "      <td>13599</td>\n",
       "      <td>11/03/2016 19:44</td>\n",
       "    </tr>\n",
       "    <tr>\n",
       "      <th>178950</th>\n",
       "      <td>15/03/2016 15:58</td>\n",
       "      <td>400</td>\n",
       "      <td>bus</td>\n",
       "      <td>1997</td>\n",
       "      <td>manual</td>\n",
       "      <td>0</td>\n",
       "      <td>galaxy</td>\n",
       "      <td>150000</td>\n",
       "      <td>7</td>\n",
       "      <td>petrol</td>\n",
       "      <td>ford</td>\n",
       "      <td>no</td>\n",
       "      <td>15/03/2016 00:00</td>\n",
       "      <td>0</td>\n",
       "      <td>53879</td>\n",
       "      <td>15/03/2016 16:39</td>\n",
       "    </tr>\n",
       "    <tr>\n",
       "      <th>126530</th>\n",
       "      <td>16/03/2016 11:50</td>\n",
       "      <td>2400</td>\n",
       "      <td>wagon</td>\n",
       "      <td>2006</td>\n",
       "      <td>NaN</td>\n",
       "      <td>0</td>\n",
       "      <td>sharan</td>\n",
       "      <td>150000</td>\n",
       "      <td>11</td>\n",
       "      <td>gasoline</td>\n",
       "      <td>volkswagen</td>\n",
       "      <td>no</td>\n",
       "      <td>16/03/2016 00:00</td>\n",
       "      <td>0</td>\n",
       "      <td>86368</td>\n",
       "      <td>16/03/2016 11:50</td>\n",
       "    </tr>\n",
       "    <tr>\n",
       "      <th>208353</th>\n",
       "      <td>27/03/2016 15:58</td>\n",
       "      <td>3999</td>\n",
       "      <td>NaN</td>\n",
       "      <td>2017</td>\n",
       "      <td>manual</td>\n",
       "      <td>0</td>\n",
       "      <td>vectra</td>\n",
       "      <td>150000</td>\n",
       "      <td>9</td>\n",
       "      <td>NaN</td>\n",
       "      <td>opel</td>\n",
       "      <td>NaN</td>\n",
       "      <td>27/03/2016 00:00</td>\n",
       "      <td>0</td>\n",
       "      <td>79341</td>\n",
       "      <td>27/03/2016 15:58</td>\n",
       "    </tr>\n",
       "    <tr>\n",
       "      <th>168073</th>\n",
       "      <td>01/04/2016 00:56</td>\n",
       "      <td>11800</td>\n",
       "      <td>suv</td>\n",
       "      <td>2011</td>\n",
       "      <td>manual</td>\n",
       "      <td>101</td>\n",
       "      <td>tiguan</td>\n",
       "      <td>150000</td>\n",
       "      <td>7</td>\n",
       "      <td>gasoline</td>\n",
       "      <td>volkswagen</td>\n",
       "      <td>no</td>\n",
       "      <td>01/04/2016 00:00</td>\n",
       "      <td>0</td>\n",
       "      <td>1069</td>\n",
       "      <td>07/04/2016 05:15</td>\n",
       "    </tr>\n",
       "  </tbody>\n",
       "</table>\n",
       "</div>"
      ],
      "text/plain": [
       "             DateCrawled  Price VehicleType  RegistrationYear Gearbox  Power  \\\n",
       "304830  29/03/2016 14:47    350       wagon              1998    auto    131   \n",
       "233124  23/03/2016 14:52   4950       sedan              1997  manual     75   \n",
       "120678  01/04/2016 20:39   3800         NaN              2017  manual    115   \n",
       "117321  25/03/2016 08:53    550       small              1996  manual      0   \n",
       "180819  02/04/2016 16:59    750       small              1996  manual     50   \n",
       "279231  10/03/2016 01:54   2950         NaN              2017    auto      0   \n",
       "178950  15/03/2016 15:58    400         bus              1997  manual      0   \n",
       "126530  16/03/2016 11:50   2400       wagon              2006     NaN      0   \n",
       "208353  27/03/2016 15:58   3999         NaN              2017  manual      0   \n",
       "168073  01/04/2016 00:56  11800         suv              2011  manual    101   \n",
       "\n",
       "          Model  Mileage  RegistrationMonth  FuelType       Brand NotRepaired  \\\n",
       "304830   mondeo   150000                  7    petrol        ford          no   \n",
       "233124     golf    40000                  7    petrol  volkswagen          no   \n",
       "120678    corsa   150000                  0       NaN        opel          no   \n",
       "117321  1_reihe   150000                  7    petrol     peugeot          no   \n",
       "180819   fiesta   125000                  2    petrol        ford          no   \n",
       "279231      NaN   150000                  6       NaN        opel         NaN   \n",
       "178950   galaxy   150000                  7    petrol        ford          no   \n",
       "126530   sharan   150000                 11  gasoline  volkswagen          no   \n",
       "208353   vectra   150000                  9       NaN        opel         NaN   \n",
       "168073   tiguan   150000                  7  gasoline  volkswagen          no   \n",
       "\n",
       "             DateCreated  NumberOfPictures  PostalCode          LastSeen  \n",
       "304830  29/03/2016 00:00                 0       12681  31/03/2016 07:45  \n",
       "233124  23/03/2016 00:00                 0       87778  05/04/2016 17:21  \n",
       "120678  01/04/2016 00:00                 0       94269  05/04/2016 17:26  \n",
       "117321  25/03/2016 00:00                 0       44141  28/03/2016 07:45  \n",
       "180819  02/04/2016 00:00                 0       28779  02/04/2016 16:59  \n",
       "279231  09/03/2016 00:00                 0       13599  11/03/2016 19:44  \n",
       "178950  15/03/2016 00:00                 0       53879  15/03/2016 16:39  \n",
       "126530  16/03/2016 00:00                 0       86368  16/03/2016 11:50  \n",
       "208353  27/03/2016 00:00                 0       79341  27/03/2016 15:58  \n",
       "168073  01/04/2016 00:00                 0        1069  07/04/2016 05:15  "
      ]
     },
     "execution_count": 4,
     "metadata": {},
     "output_type": "execute_result"
    }
   ],
   "source": [
    "df.sample(10)"
   ]
  },
  {
   "cell_type": "code",
   "execution_count": 5,
   "metadata": {},
   "outputs": [
    {
     "data": {
      "text/html": [
       "<div>\n",
       "<style scoped>\n",
       "    .dataframe tbody tr th:only-of-type {\n",
       "        vertical-align: middle;\n",
       "    }\n",
       "\n",
       "    .dataframe tbody tr th {\n",
       "        vertical-align: top;\n",
       "    }\n",
       "\n",
       "    .dataframe thead th {\n",
       "        text-align: right;\n",
       "    }\n",
       "</style>\n",
       "<table border=\"1\" class=\"dataframe\">\n",
       "  <thead>\n",
       "    <tr style=\"text-align: right;\">\n",
       "      <th></th>\n",
       "      <th>Price</th>\n",
       "      <th>RegistrationYear</th>\n",
       "      <th>Power</th>\n",
       "      <th>Mileage</th>\n",
       "      <th>RegistrationMonth</th>\n",
       "      <th>NumberOfPictures</th>\n",
       "      <th>PostalCode</th>\n",
       "    </tr>\n",
       "  </thead>\n",
       "  <tbody>\n",
       "    <tr>\n",
       "      <th>count</th>\n",
       "      <td>354369.000000</td>\n",
       "      <td>354369.000000</td>\n",
       "      <td>354369.000000</td>\n",
       "      <td>354369.000000</td>\n",
       "      <td>354369.000000</td>\n",
       "      <td>354369.0</td>\n",
       "      <td>354369.000000</td>\n",
       "    </tr>\n",
       "    <tr>\n",
       "      <th>mean</th>\n",
       "      <td>4416.656776</td>\n",
       "      <td>2004.234448</td>\n",
       "      <td>110.094337</td>\n",
       "      <td>128211.172535</td>\n",
       "      <td>5.714645</td>\n",
       "      <td>0.0</td>\n",
       "      <td>50508.689087</td>\n",
       "    </tr>\n",
       "    <tr>\n",
       "      <th>std</th>\n",
       "      <td>4514.158514</td>\n",
       "      <td>90.227958</td>\n",
       "      <td>189.850405</td>\n",
       "      <td>37905.341530</td>\n",
       "      <td>3.726421</td>\n",
       "      <td>0.0</td>\n",
       "      <td>25783.096248</td>\n",
       "    </tr>\n",
       "    <tr>\n",
       "      <th>min</th>\n",
       "      <td>0.000000</td>\n",
       "      <td>1000.000000</td>\n",
       "      <td>0.000000</td>\n",
       "      <td>5000.000000</td>\n",
       "      <td>0.000000</td>\n",
       "      <td>0.0</td>\n",
       "      <td>1067.000000</td>\n",
       "    </tr>\n",
       "    <tr>\n",
       "      <th>25%</th>\n",
       "      <td>1050.000000</td>\n",
       "      <td>1999.000000</td>\n",
       "      <td>69.000000</td>\n",
       "      <td>125000.000000</td>\n",
       "      <td>3.000000</td>\n",
       "      <td>0.0</td>\n",
       "      <td>30165.000000</td>\n",
       "    </tr>\n",
       "    <tr>\n",
       "      <th>50%</th>\n",
       "      <td>2700.000000</td>\n",
       "      <td>2003.000000</td>\n",
       "      <td>105.000000</td>\n",
       "      <td>150000.000000</td>\n",
       "      <td>6.000000</td>\n",
       "      <td>0.0</td>\n",
       "      <td>49413.000000</td>\n",
       "    </tr>\n",
       "    <tr>\n",
       "      <th>75%</th>\n",
       "      <td>6400.000000</td>\n",
       "      <td>2008.000000</td>\n",
       "      <td>143.000000</td>\n",
       "      <td>150000.000000</td>\n",
       "      <td>9.000000</td>\n",
       "      <td>0.0</td>\n",
       "      <td>71083.000000</td>\n",
       "    </tr>\n",
       "    <tr>\n",
       "      <th>max</th>\n",
       "      <td>20000.000000</td>\n",
       "      <td>9999.000000</td>\n",
       "      <td>20000.000000</td>\n",
       "      <td>150000.000000</td>\n",
       "      <td>12.000000</td>\n",
       "      <td>0.0</td>\n",
       "      <td>99998.000000</td>\n",
       "    </tr>\n",
       "  </tbody>\n",
       "</table>\n",
       "</div>"
      ],
      "text/plain": [
       "               Price  RegistrationYear          Power        Mileage  \\\n",
       "count  354369.000000     354369.000000  354369.000000  354369.000000   \n",
       "mean     4416.656776       2004.234448     110.094337  128211.172535   \n",
       "std      4514.158514         90.227958     189.850405   37905.341530   \n",
       "min         0.000000       1000.000000       0.000000    5000.000000   \n",
       "25%      1050.000000       1999.000000      69.000000  125000.000000   \n",
       "50%      2700.000000       2003.000000     105.000000  150000.000000   \n",
       "75%      6400.000000       2008.000000     143.000000  150000.000000   \n",
       "max     20000.000000       9999.000000   20000.000000  150000.000000   \n",
       "\n",
       "       RegistrationMonth  NumberOfPictures     PostalCode  \n",
       "count      354369.000000          354369.0  354369.000000  \n",
       "mean            5.714645               0.0   50508.689087  \n",
       "std             3.726421               0.0   25783.096248  \n",
       "min             0.000000               0.0    1067.000000  \n",
       "25%             3.000000               0.0   30165.000000  \n",
       "50%             6.000000               0.0   49413.000000  \n",
       "75%             9.000000               0.0   71083.000000  \n",
       "max            12.000000               0.0   99998.000000  "
      ]
     },
     "execution_count": 5,
     "metadata": {},
     "output_type": "execute_result"
    }
   ],
   "source": [
    "#Aplicar método describe para evaluar los datos númericos.\n",
    "df.describe()"
   ]
  },
  {
   "cell_type": "code",
   "execution_count": 6,
   "metadata": {},
   "outputs": [
    {
     "data": {
      "text/plain": [
       "DateCrawled          15470\n",
       "Price                 3731\n",
       "VehicleType              8\n",
       "RegistrationYear       151\n",
       "Gearbox                  2\n",
       "Power                  712\n",
       "Model                  250\n",
       "Mileage                 13\n",
       "RegistrationMonth       13\n",
       "FuelType                 7\n",
       "Brand                   40\n",
       "NotRepaired              2\n",
       "DateCreated            109\n",
       "NumberOfPictures         1\n",
       "PostalCode            8143\n",
       "LastSeen             18592\n",
       "dtype: int64"
      ]
     },
     "execution_count": 6,
     "metadata": {},
     "output_type": "execute_result"
    }
   ],
   "source": [
    "#Aplicar método nunique para revisar la cantidad de valores unicos de las columnas.\n",
    "df.nunique()"
   ]
  },
  {
   "cell_type": "markdown",
   "metadata": {},
   "source": [
    "Durante la exploración inicial de datos no se encontraron valores ausentes en las columnas de datos numéricos. En las columnas de datos categericos si hay valores ausentes"
   ]
  },
  {
   "cell_type": "code",
   "execution_count": 7,
   "metadata": {},
   "outputs": [],
   "source": [
    "df.fillna('None', inplace = True)"
   ]
  },
  {
   "cell_type": "code",
   "execution_count": 8,
   "metadata": {},
   "outputs": [
    {
     "name": "stdout",
     "output_type": "stream",
     "text": [
      "<class 'pandas.core.frame.DataFrame'>\n",
      "RangeIndex: 354369 entries, 0 to 354368\n",
      "Data columns (total 16 columns):\n",
      " #   Column             Non-Null Count   Dtype \n",
      "---  ------             --------------   ----- \n",
      " 0   DateCrawled        354369 non-null  object\n",
      " 1   Price              354369 non-null  int64 \n",
      " 2   VehicleType        354369 non-null  object\n",
      " 3   RegistrationYear   354369 non-null  int64 \n",
      " 4   Gearbox            354369 non-null  object\n",
      " 5   Power              354369 non-null  int64 \n",
      " 6   Model              354369 non-null  object\n",
      " 7   Mileage            354369 non-null  int64 \n",
      " 8   RegistrationMonth  354369 non-null  int64 \n",
      " 9   FuelType           354369 non-null  object\n",
      " 10  Brand              354369 non-null  object\n",
      " 11  NotRepaired        354369 non-null  object\n",
      " 12  DateCreated        354369 non-null  object\n",
      " 13  NumberOfPictures   354369 non-null  int64 \n",
      " 14  PostalCode         354369 non-null  int64 \n",
      " 15  LastSeen           354369 non-null  object\n",
      "dtypes: int64(7), object(9)\n",
      "memory usage: 43.3+ MB\n"
     ]
    }
   ],
   "source": [
    "df.info()"
   ]
  },
  {
   "cell_type": "markdown",
   "metadata": {},
   "source": [
    "## Entrenamiento del modelo "
   ]
  },
  {
   "cell_type": "code",
   "execution_count": 9,
   "metadata": {},
   "outputs": [],
   "source": [
    "#Definir las columnas para features y target\n",
    "\n",
    "#No se considera la columna Model para las caracteristicas ya que tiene demasiados valores unicos y dificulta el entrenamiento del modelo\n",
    "features = ['VehicleType', 'RegistrationYear', 'Gearbox', 'Power', 'Mileage', 'FuelType', 'Brand', 'NotRepaired'] \n",
    "target = ['Price']"
   ]
  },
  {
   "cell_type": "code",
   "execution_count": 10,
   "metadata": {},
   "outputs": [],
   "source": [
    "#Asignar las caracteristicas a las variables df_features y df_target\n",
    "df_features = df[features]\n",
    "df_target = df[target]"
   ]
  },
  {
   "cell_type": "code",
   "execution_count": 11,
   "metadata": {},
   "outputs": [
    {
     "data": {
      "text/html": [
       "<div>\n",
       "<style scoped>\n",
       "    .dataframe tbody tr th:only-of-type {\n",
       "        vertical-align: middle;\n",
       "    }\n",
       "\n",
       "    .dataframe tbody tr th {\n",
       "        vertical-align: top;\n",
       "    }\n",
       "\n",
       "    .dataframe thead th {\n",
       "        text-align: right;\n",
       "    }\n",
       "</style>\n",
       "<table border=\"1\" class=\"dataframe\">\n",
       "  <thead>\n",
       "    <tr style=\"text-align: right;\">\n",
       "      <th></th>\n",
       "      <th>VehicleType</th>\n",
       "      <th>RegistrationYear</th>\n",
       "      <th>Gearbox</th>\n",
       "      <th>Power</th>\n",
       "      <th>Mileage</th>\n",
       "      <th>FuelType</th>\n",
       "      <th>Brand</th>\n",
       "      <th>NotRepaired</th>\n",
       "    </tr>\n",
       "  </thead>\n",
       "  <tbody>\n",
       "    <tr>\n",
       "      <th>0</th>\n",
       "      <td>None</td>\n",
       "      <td>1993</td>\n",
       "      <td>manual</td>\n",
       "      <td>0</td>\n",
       "      <td>150000</td>\n",
       "      <td>petrol</td>\n",
       "      <td>volkswagen</td>\n",
       "      <td>None</td>\n",
       "    </tr>\n",
       "    <tr>\n",
       "      <th>1</th>\n",
       "      <td>coupe</td>\n",
       "      <td>2011</td>\n",
       "      <td>manual</td>\n",
       "      <td>190</td>\n",
       "      <td>125000</td>\n",
       "      <td>gasoline</td>\n",
       "      <td>audi</td>\n",
       "      <td>yes</td>\n",
       "    </tr>\n",
       "    <tr>\n",
       "      <th>2</th>\n",
       "      <td>suv</td>\n",
       "      <td>2004</td>\n",
       "      <td>auto</td>\n",
       "      <td>163</td>\n",
       "      <td>125000</td>\n",
       "      <td>gasoline</td>\n",
       "      <td>jeep</td>\n",
       "      <td>None</td>\n",
       "    </tr>\n",
       "    <tr>\n",
       "      <th>3</th>\n",
       "      <td>small</td>\n",
       "      <td>2001</td>\n",
       "      <td>manual</td>\n",
       "      <td>75</td>\n",
       "      <td>150000</td>\n",
       "      <td>petrol</td>\n",
       "      <td>volkswagen</td>\n",
       "      <td>no</td>\n",
       "    </tr>\n",
       "    <tr>\n",
       "      <th>4</th>\n",
       "      <td>small</td>\n",
       "      <td>2008</td>\n",
       "      <td>manual</td>\n",
       "      <td>69</td>\n",
       "      <td>90000</td>\n",
       "      <td>gasoline</td>\n",
       "      <td>skoda</td>\n",
       "      <td>no</td>\n",
       "    </tr>\n",
       "  </tbody>\n",
       "</table>\n",
       "</div>"
      ],
      "text/plain": [
       "  VehicleType  RegistrationYear Gearbox  Power  Mileage  FuelType       Brand  \\\n",
       "0        None              1993  manual      0   150000    petrol  volkswagen   \n",
       "1       coupe              2011  manual    190   125000  gasoline        audi   \n",
       "2         suv              2004    auto    163   125000  gasoline        jeep   \n",
       "3       small              2001  manual     75   150000    petrol  volkswagen   \n",
       "4       small              2008  manual     69    90000  gasoline       skoda   \n",
       "\n",
       "  NotRepaired  \n",
       "0        None  \n",
       "1         yes  \n",
       "2        None  \n",
       "3          no  \n",
       "4          no  "
      ]
     },
     "execution_count": 11,
     "metadata": {},
     "output_type": "execute_result"
    }
   ],
   "source": [
    "df_features.head()"
   ]
  },
  {
   "cell_type": "code",
   "execution_count": 12,
   "metadata": {},
   "outputs": [
    {
     "data": {
      "text/html": [
       "<div>\n",
       "<style scoped>\n",
       "    .dataframe tbody tr th:only-of-type {\n",
       "        vertical-align: middle;\n",
       "    }\n",
       "\n",
       "    .dataframe tbody tr th {\n",
       "        vertical-align: top;\n",
       "    }\n",
       "\n",
       "    .dataframe thead th {\n",
       "        text-align: right;\n",
       "    }\n",
       "</style>\n",
       "<table border=\"1\" class=\"dataframe\">\n",
       "  <thead>\n",
       "    <tr style=\"text-align: right;\">\n",
       "      <th></th>\n",
       "      <th>Price</th>\n",
       "    </tr>\n",
       "  </thead>\n",
       "  <tbody>\n",
       "    <tr>\n",
       "      <th>0</th>\n",
       "      <td>480</td>\n",
       "    </tr>\n",
       "    <tr>\n",
       "      <th>1</th>\n",
       "      <td>18300</td>\n",
       "    </tr>\n",
       "    <tr>\n",
       "      <th>2</th>\n",
       "      <td>9800</td>\n",
       "    </tr>\n",
       "    <tr>\n",
       "      <th>3</th>\n",
       "      <td>1500</td>\n",
       "    </tr>\n",
       "    <tr>\n",
       "      <th>4</th>\n",
       "      <td>3600</td>\n",
       "    </tr>\n",
       "  </tbody>\n",
       "</table>\n",
       "</div>"
      ],
      "text/plain": [
       "   Price\n",
       "0    480\n",
       "1  18300\n",
       "2   9800\n",
       "3   1500\n",
       "4   3600"
      ]
     },
     "execution_count": 12,
     "metadata": {},
     "output_type": "execute_result"
    }
   ],
   "source": [
    "df_target.head()"
   ]
  },
  {
   "cell_type": "code",
   "execution_count": 13,
   "metadata": {},
   "outputs": [],
   "source": [
    "#Aplicar OHE a features\n",
    "\n",
    "df_features_ohe = pd.get_dummies(df_features, drop_first=True)"
   ]
  },
  {
   "cell_type": "code",
   "execution_count": 14,
   "metadata": {},
   "outputs": [
    {
     "data": {
      "text/html": [
       "<div>\n",
       "<style scoped>\n",
       "    .dataframe tbody tr th:only-of-type {\n",
       "        vertical-align: middle;\n",
       "    }\n",
       "\n",
       "    .dataframe tbody tr th {\n",
       "        vertical-align: top;\n",
       "    }\n",
       "\n",
       "    .dataframe thead th {\n",
       "        text-align: right;\n",
       "    }\n",
       "</style>\n",
       "<table border=\"1\" class=\"dataframe\">\n",
       "  <thead>\n",
       "    <tr style=\"text-align: right;\">\n",
       "      <th></th>\n",
       "      <th>RegistrationYear</th>\n",
       "      <th>Power</th>\n",
       "      <th>Mileage</th>\n",
       "      <th>VehicleType_bus</th>\n",
       "      <th>VehicleType_convertible</th>\n",
       "      <th>VehicleType_coupe</th>\n",
       "      <th>VehicleType_other</th>\n",
       "      <th>VehicleType_sedan</th>\n",
       "      <th>VehicleType_small</th>\n",
       "      <th>VehicleType_suv</th>\n",
       "      <th>...</th>\n",
       "      <th>Brand_smart</th>\n",
       "      <th>Brand_sonstige_autos</th>\n",
       "      <th>Brand_subaru</th>\n",
       "      <th>Brand_suzuki</th>\n",
       "      <th>Brand_toyota</th>\n",
       "      <th>Brand_trabant</th>\n",
       "      <th>Brand_volkswagen</th>\n",
       "      <th>Brand_volvo</th>\n",
       "      <th>NotRepaired_no</th>\n",
       "      <th>NotRepaired_yes</th>\n",
       "    </tr>\n",
       "  </thead>\n",
       "  <tbody>\n",
       "    <tr>\n",
       "      <th>0</th>\n",
       "      <td>1993</td>\n",
       "      <td>0</td>\n",
       "      <td>150000</td>\n",
       "      <td>0</td>\n",
       "      <td>0</td>\n",
       "      <td>0</td>\n",
       "      <td>0</td>\n",
       "      <td>0</td>\n",
       "      <td>0</td>\n",
       "      <td>0</td>\n",
       "      <td>...</td>\n",
       "      <td>0</td>\n",
       "      <td>0</td>\n",
       "      <td>0</td>\n",
       "      <td>0</td>\n",
       "      <td>0</td>\n",
       "      <td>0</td>\n",
       "      <td>1</td>\n",
       "      <td>0</td>\n",
       "      <td>0</td>\n",
       "      <td>0</td>\n",
       "    </tr>\n",
       "    <tr>\n",
       "      <th>1</th>\n",
       "      <td>2011</td>\n",
       "      <td>190</td>\n",
       "      <td>125000</td>\n",
       "      <td>0</td>\n",
       "      <td>0</td>\n",
       "      <td>1</td>\n",
       "      <td>0</td>\n",
       "      <td>0</td>\n",
       "      <td>0</td>\n",
       "      <td>0</td>\n",
       "      <td>...</td>\n",
       "      <td>0</td>\n",
       "      <td>0</td>\n",
       "      <td>0</td>\n",
       "      <td>0</td>\n",
       "      <td>0</td>\n",
       "      <td>0</td>\n",
       "      <td>0</td>\n",
       "      <td>0</td>\n",
       "      <td>0</td>\n",
       "      <td>1</td>\n",
       "    </tr>\n",
       "    <tr>\n",
       "      <th>2</th>\n",
       "      <td>2004</td>\n",
       "      <td>163</td>\n",
       "      <td>125000</td>\n",
       "      <td>0</td>\n",
       "      <td>0</td>\n",
       "      <td>0</td>\n",
       "      <td>0</td>\n",
       "      <td>0</td>\n",
       "      <td>0</td>\n",
       "      <td>1</td>\n",
       "      <td>...</td>\n",
       "      <td>0</td>\n",
       "      <td>0</td>\n",
       "      <td>0</td>\n",
       "      <td>0</td>\n",
       "      <td>0</td>\n",
       "      <td>0</td>\n",
       "      <td>0</td>\n",
       "      <td>0</td>\n",
       "      <td>0</td>\n",
       "      <td>0</td>\n",
       "    </tr>\n",
       "    <tr>\n",
       "      <th>3</th>\n",
       "      <td>2001</td>\n",
       "      <td>75</td>\n",
       "      <td>150000</td>\n",
       "      <td>0</td>\n",
       "      <td>0</td>\n",
       "      <td>0</td>\n",
       "      <td>0</td>\n",
       "      <td>0</td>\n",
       "      <td>1</td>\n",
       "      <td>0</td>\n",
       "      <td>...</td>\n",
       "      <td>0</td>\n",
       "      <td>0</td>\n",
       "      <td>0</td>\n",
       "      <td>0</td>\n",
       "      <td>0</td>\n",
       "      <td>0</td>\n",
       "      <td>1</td>\n",
       "      <td>0</td>\n",
       "      <td>1</td>\n",
       "      <td>0</td>\n",
       "    </tr>\n",
       "    <tr>\n",
       "      <th>4</th>\n",
       "      <td>2008</td>\n",
       "      <td>69</td>\n",
       "      <td>90000</td>\n",
       "      <td>0</td>\n",
       "      <td>0</td>\n",
       "      <td>0</td>\n",
       "      <td>0</td>\n",
       "      <td>0</td>\n",
       "      <td>1</td>\n",
       "      <td>0</td>\n",
       "      <td>...</td>\n",
       "      <td>0</td>\n",
       "      <td>0</td>\n",
       "      <td>0</td>\n",
       "      <td>0</td>\n",
       "      <td>0</td>\n",
       "      <td>0</td>\n",
       "      <td>0</td>\n",
       "      <td>0</td>\n",
       "      <td>1</td>\n",
       "      <td>0</td>\n",
       "    </tr>\n",
       "  </tbody>\n",
       "</table>\n",
       "<p>5 rows × 61 columns</p>\n",
       "</div>"
      ],
      "text/plain": [
       "   RegistrationYear  Power  Mileage  VehicleType_bus  VehicleType_convertible  \\\n",
       "0              1993      0   150000                0                        0   \n",
       "1              2011    190   125000                0                        0   \n",
       "2              2004    163   125000                0                        0   \n",
       "3              2001     75   150000                0                        0   \n",
       "4              2008     69    90000                0                        0   \n",
       "\n",
       "   VehicleType_coupe  VehicleType_other  VehicleType_sedan  VehicleType_small  \\\n",
       "0                  0                  0                  0                  0   \n",
       "1                  1                  0                  0                  0   \n",
       "2                  0                  0                  0                  0   \n",
       "3                  0                  0                  0                  1   \n",
       "4                  0                  0                  0                  1   \n",
       "\n",
       "   VehicleType_suv  ...  Brand_smart  Brand_sonstige_autos  Brand_subaru  \\\n",
       "0                0  ...            0                     0             0   \n",
       "1                0  ...            0                     0             0   \n",
       "2                1  ...            0                     0             0   \n",
       "3                0  ...            0                     0             0   \n",
       "4                0  ...            0                     0             0   \n",
       "\n",
       "   Brand_suzuki  Brand_toyota  Brand_trabant  Brand_volkswagen  Brand_volvo  \\\n",
       "0             0             0              0                 1            0   \n",
       "1             0             0              0                 0            0   \n",
       "2             0             0              0                 0            0   \n",
       "3             0             0              0                 1            0   \n",
       "4             0             0              0                 0            0   \n",
       "\n",
       "   NotRepaired_no  NotRepaired_yes  \n",
       "0               0                0  \n",
       "1               0                1  \n",
       "2               0                0  \n",
       "3               1                0  \n",
       "4               1                0  \n",
       "\n",
       "[5 rows x 61 columns]"
      ]
     },
     "execution_count": 14,
     "metadata": {},
     "output_type": "execute_result"
    }
   ],
   "source": [
    "#Verificar si se realizo correctamente OHE\n",
    "df_features_ohe.head()"
   ]
  },
  {
   "cell_type": "code",
   "execution_count": 15,
   "metadata": {},
   "outputs": [],
   "source": [
    "#Dividir en conjunto de entrenamiento y prueba en proporción 80:20 a datos con OHE\n",
    "\n",
    "features_train_ohe, features_test_ohe, target_train_ohe, target_test_ohe = train_test_split(df_features_ohe, df_target, test_size=0.20, random_state=12345)"
   ]
  },
  {
   "cell_type": "markdown",
   "metadata": {},
   "source": [
    "### Modelo de regresión lineal"
   ]
  },
  {
   "cell_type": "code",
   "execution_count": 16,
   "metadata": {},
   "outputs": [
    {
     "name": "stdout",
     "output_type": "stream",
     "text": [
      "CPU times: user 2.4 s, sys: 429 ms, total: 2.83 s\n",
      "Wall time: 2.83 s\n"
     ]
    },
    {
     "data": {
      "text/plain": [
       "LinearRegression()"
      ]
     },
     "execution_count": 16,
     "metadata": {},
     "output_type": "execute_result"
    }
   ],
   "source": [
    "%%time\n",
    "#Entrenar modelo de regresión lineal y hacer predicciones para conjunto de prueba\n",
    "model_rl = LinearRegression()\n",
    "model_rl.fit(features_train_ohe, target_train_ohe)\n"
   ]
  },
  {
   "cell_type": "code",
   "execution_count": 17,
   "metadata": {},
   "outputs": [
    {
     "name": "stdout",
     "output_type": "stream",
     "text": [
      "CPU times: user 45 ms, sys: 25.2 ms, total: 70.2 ms\n",
      "Wall time: 101 ms\n"
     ]
    }
   ],
   "source": [
    "%%time\n",
    "predictions_rl_test = model_rl.predict(features_test_ohe)"
   ]
  },
  {
   "cell_type": "code",
   "execution_count": 18,
   "metadata": {},
   "outputs": [
    {
     "name": "stdout",
     "output_type": "stream",
     "text": [
      "RECM del modelo de regresión lineal en el conjunto de prueba: 3348.0400620189225\n"
     ]
    }
   ],
   "source": [
    "#Caclular RECM para modelo de regresión lineal\n",
    "\n",
    "RECM_rl = mean_squared_error(target_test_ohe, predictions_rl_test)**0.5\n",
    "print(\"RECM del modelo de regresión lineal en el conjunto de prueba:\", RECM_rl)"
   ]
  },
  {
   "cell_type": "markdown",
   "metadata": {},
   "source": [
    "### Modelo de bosque aleatorio"
   ]
  },
  {
   "cell_type": "code",
   "execution_count": 19,
   "metadata": {},
   "outputs": [
    {
     "name": "stdout",
     "output_type": "stream",
     "text": [
      "CPU times: user 19 s, sys: 59.1 ms, total: 19 s\n",
      "Wall time: 19.1 s\n"
     ]
    }
   ],
   "source": [
    "%%time\n",
    "#Entrenar modelo de bosque aleatorio\n",
    "model_rfr = RandomForestRegressor(max_depth=15, n_estimators=10, random_state=12345)\n",
    "model_rfr.fit(features_train_ohe, target_train_ohe.values.ravel())\n",
    "predictions_rfr_test = model_rfr.predict(features_test_ohe)"
   ]
  },
  {
   "cell_type": "code",
   "execution_count": 20,
   "metadata": {},
   "outputs": [
    {
     "name": "stdout",
     "output_type": "stream",
     "text": [
      "CPU times: user 171 ms, sys: 12 ms, total: 183 ms\n",
      "Wall time: 189 ms\n"
     ]
    }
   ],
   "source": [
    "%%time\n",
    "# hacer predicciones para conjunto de prueba\n",
    "predictions_rfr_test = model_rfr.predict(features_test_ohe)"
   ]
  },
  {
   "cell_type": "code",
   "execution_count": 21,
   "metadata": {},
   "outputs": [
    {
     "name": "stdout",
     "output_type": "stream",
     "text": [
      "RECM del modelo de bosque aleatorio en el conjunto de prueba: 1868.3904882340232\n"
     ]
    }
   ],
   "source": [
    "#Caclular RECM para modelo de bosque aleatorio\n",
    "RECM_rfr = mean_squared_error(target_test_ohe, predictions_rfr_test)**0.5\n",
    "print(\"RECM del modelo de bosque aleatorio en el conjunto de prueba:\", RECM_rfr)"
   ]
  },
  {
   "cell_type": "markdown",
   "metadata": {},
   "source": [
    "### Modelo LightGBM"
   ]
  },
  {
   "cell_type": "code",
   "execution_count": 22,
   "metadata": {},
   "outputs": [],
   "source": [
    "#Dividir en conjunto de entrenamiento y validación en proporción 80:20\n",
    "\n",
    "x_train, x_valid, y_train, y_valid = train_test_split(df_features, df_target, test_size=0.20, random_state=12345)\n"
   ]
  },
  {
   "cell_type": "code",
   "execution_count": 23,
   "metadata": {},
   "outputs": [],
   "source": [
    "#Definir variables categoricas\n",
    "cat_features = ['VehicleType', 'Gearbox', 'FuelType', 'Brand', 'NotRepaired']"
   ]
  },
  {
   "cell_type": "code",
   "execution_count": 24,
   "metadata": {},
   "outputs": [
    {
     "name": "stderr",
     "output_type": "stream",
     "text": [
      "/tmp/ipykernel_209/3306839157.py:3: SettingWithCopyWarning: \n",
      "A value is trying to be set on a copy of a slice from a DataFrame.\n",
      "Try using .loc[row_indexer,col_indexer] = value instead\n",
      "\n",
      "See the caveats in the documentation: https://pandas.pydata.org/pandas-docs/stable/user_guide/indexing.html#returning-a-view-versus-a-copy\n",
      "  x_train[c] = x_train[c].astype('category')\n",
      "/tmp/ipykernel_209/3306839157.py:4: SettingWithCopyWarning: \n",
      "A value is trying to be set on a copy of a slice from a DataFrame.\n",
      "Try using .loc[row_indexer,col_indexer] = value instead\n",
      "\n",
      "See the caveats in the documentation: https://pandas.pydata.org/pandas-docs/stable/user_guide/indexing.html#returning-a-view-versus-a-copy\n",
      "  x_valid[c] = x_valid[c].astype('category')\n"
     ]
    }
   ],
   "source": [
    "#Cambiar tipo de datos de conjuntos de entrenamiento y validación a category\n",
    "for c in cat_features:\n",
    "    x_train[c] = x_train[c].astype('category')\n",
    "    x_valid[c] = x_valid[c].astype('category')"
   ]
  },
  {
   "cell_type": "code",
   "execution_count": 25,
   "metadata": {},
   "outputs": [
    {
     "name": "stdout",
     "output_type": "stream",
     "text": [
      "<class 'pandas.core.frame.DataFrame'>\n",
      "Int64Index: 283495 entries, 50353 to 217570\n",
      "Data columns (total 8 columns):\n",
      " #   Column            Non-Null Count   Dtype   \n",
      "---  ------            --------------   -----   \n",
      " 0   VehicleType       283495 non-null  category\n",
      " 1   RegistrationYear  283495 non-null  int64   \n",
      " 2   Gearbox           283495 non-null  category\n",
      " 3   Power             283495 non-null  int64   \n",
      " 4   Mileage           283495 non-null  int64   \n",
      " 5   FuelType          283495 non-null  category\n",
      " 6   Brand             283495 non-null  category\n",
      " 7   NotRepaired       283495 non-null  category\n",
      "dtypes: category(5), int64(3)\n",
      "memory usage: 10.0 MB\n"
     ]
    }
   ],
   "source": [
    "x_train.info()"
   ]
  },
  {
   "cell_type": "code",
   "execution_count": 26,
   "metadata": {},
   "outputs": [],
   "source": [
    "#Cambiar conjuntos a lgb datasets\n",
    "train_data=lgb.Dataset(x_train, label=y_train, feature_name=features, categorical_feature=cat_features, free_raw_data=False)\n",
    "valid_data = lgb.Dataset(x_valid, label=y_valid, reference=train_data)"
   ]
  },
  {
   "cell_type": "code",
   "execution_count": 27,
   "metadata": {},
   "outputs": [],
   "source": [
    "#Definir parametros para Light GBM\n",
    "param_lgbm = {'num_leaves': 150, 'max_depth':10, 'learning_rate':.15, 'max_bin':200, 'boosting_type': 'gbdt', 'metric': 'rmse'}"
   ]
  },
  {
   "cell_type": "code",
   "execution_count": 28,
   "metadata": {},
   "outputs": [
    {
     "name": "stderr",
     "output_type": "stream",
     "text": [
      "/opt/conda/envs/python3/lib/python3.9/site-packages/lightgbm/basic.py:2065: UserWarning: Using categorical_feature in Dataset.\n",
      "  _log_warning('Using categorical_feature in Dataset.')\n"
     ]
    },
    {
     "name": "stdout",
     "output_type": "stream",
     "text": [
      "[LightGBM] [Warning] Auto-choosing row-wise multi-threading, the overhead of testing was 0.003609 seconds.\n",
      "You can set `force_row_wise=true` to remove the overhead.\n",
      "And if memory is not enough, you can set `force_col_wise=true`.\n",
      "[LightGBM] [Info] Total Bins 378\n",
      "[LightGBM] [Info] Number of data points in the train set: 283495, number of used features: 8\n",
      "[LightGBM] [Info] Start training from score 4414.416558\n",
      "[LightGBM] [Warning] No further splits with positive gain, best gain: -inf\n",
      "[LightGBM] [Warning] No further splits with positive gain, best gain: -inf\n",
      "[LightGBM] [Warning] No further splits with positive gain, best gain: -inf\n",
      "[LightGBM] [Warning] No further splits with positive gain, best gain: -inf\n",
      "[LightGBM] [Warning] No further splits with positive gain, best gain: -inf\n",
      "[LightGBM] [Warning] No further splits with positive gain, best gain: -inf\n",
      "CPU times: user 3.74 s, sys: 24.6 ms, total: 3.77 s\n",
      "Wall time: 3.78 s\n"
     ]
    }
   ],
   "source": [
    "%%time\n",
    "#Entrenamiento del modelo\n",
    "num_round=50\n",
    "model_lgbm=lgb.train(param_lgbm,train_data,num_round)\n"
   ]
  },
  {
   "cell_type": "code",
   "execution_count": 29,
   "metadata": {},
   "outputs": [
    {
     "name": "stdout",
     "output_type": "stream",
     "text": [
      "CPU times: user 647 ms, sys: 6.97 ms, total: 654 ms\n",
      "Wall time: 709 ms\n"
     ]
    }
   ],
   "source": [
    "%%time\n",
    "#Realizar predicciones del conjunto de validación\n",
    "y_pred_lgmb = model_lgbm.predict(x_valid, num_iteration=model_lgbm.best_iteration)\n"
   ]
  },
  {
   "cell_type": "code",
   "execution_count": 30,
   "metadata": {},
   "outputs": [
    {
     "name": "stdout",
     "output_type": "stream",
     "text": [
      "RECM del modelo de bosque aleatorio en el conjunto de validación: 1790.3625584271483\n"
     ]
    }
   ],
   "source": [
    "#Caclular RECM para modelo Light GBM\n",
    "RECM_lgbm = mean_squared_error(y_valid, y_pred_lgmb)**0.5\n",
    "print(\"RECM del modelo de bosque aleatorio en el conjunto de validación:\", RECM_lgbm)"
   ]
  },
  {
   "cell_type": "markdown",
   "metadata": {},
   "source": [
    "### Modelo CatBoost"
   ]
  },
  {
   "cell_type": "code",
   "execution_count": 31,
   "metadata": {},
   "outputs": [],
   "source": [
    "#Dividir en conjunto de entrenamiento y validación en proporción 80:20 con del df original\n",
    "\n",
    "x_train_1, x_valid_1, y_train_1, y_valid_1 = train_test_split(df_features, df_target, test_size=0.20, random_state=12345)\n"
   ]
  },
  {
   "cell_type": "code",
   "execution_count": 32,
   "metadata": {},
   "outputs": [
    {
     "name": "stderr",
     "output_type": "stream",
     "text": [
      "Change of simpleCtr will not affect combinations ctrs.\n",
      "Change of simpleCtr will not affect combinations ctrs.\n",
      "Change of simpleCtr will not affect combinations ctrs.\n"
     ]
    },
    {
     "name": "stdout",
     "output_type": "stream",
     "text": [
      "0:\tlearn: 3148.4035591\ttotal: 240ms\tremaining: 35.8s\n",
      "1:\tlearn: 2605.1367805\ttotal: 411ms\tremaining: 30.4s\n",
      "2:\tlearn: 2383.3293435\ttotal: 589ms\tremaining: 28.9s\n",
      "3:\tlearn: 2252.3657393\ttotal: 779ms\tremaining: 28.4s\n",
      "4:\tlearn: 2134.0746443\ttotal: 945ms\tremaining: 27.4s\n",
      "5:\tlearn: 2089.3221764\ttotal: 1.12s\tremaining: 26.8s\n",
      "6:\tlearn: 2046.0246386\ttotal: 1.3s\tremaining: 26.7s\n",
      "7:\tlearn: 2027.4780198\ttotal: 1.48s\tremaining: 26.3s\n",
      "8:\tlearn: 2008.0253952\ttotal: 1.66s\tremaining: 26s\n",
      "9:\tlearn: 1995.9446138\ttotal: 1.83s\tremaining: 25.6s\n",
      "10:\tlearn: 1988.7138146\ttotal: 2s\tremaining: 25.3s\n",
      "11:\tlearn: 1973.0268726\ttotal: 2.17s\tremaining: 25s\n",
      "12:\tlearn: 1961.0616676\ttotal: 2.35s\tremaining: 24.8s\n",
      "13:\tlearn: 1948.5194363\ttotal: 2.52s\tremaining: 24.5s\n",
      "14:\tlearn: 1944.1118186\ttotal: 2.69s\tremaining: 24.2s\n",
      "15:\tlearn: 1937.4520014\ttotal: 2.86s\tremaining: 24s\n",
      "16:\tlearn: 1927.6947541\ttotal: 3.04s\tremaining: 23.8s\n",
      "17:\tlearn: 1922.4549610\ttotal: 3.19s\tremaining: 23.4s\n",
      "18:\tlearn: 1913.2682548\ttotal: 3.35s\tremaining: 23.1s\n",
      "19:\tlearn: 1907.8613044\ttotal: 3.52s\tremaining: 22.9s\n",
      "20:\tlearn: 1899.6663027\ttotal: 3.69s\tremaining: 22.7s\n",
      "21:\tlearn: 1893.3070352\ttotal: 3.87s\tremaining: 22.5s\n",
      "22:\tlearn: 1888.2225127\ttotal: 4.04s\tremaining: 22.3s\n",
      "23:\tlearn: 1883.9075716\ttotal: 4.22s\tremaining: 22.2s\n",
      "24:\tlearn: 1879.8230441\ttotal: 4.39s\tremaining: 22s\n",
      "25:\tlearn: 1874.3580732\ttotal: 4.56s\tremaining: 21.7s\n",
      "26:\tlearn: 1869.3442078\ttotal: 4.73s\tremaining: 21.6s\n",
      "27:\tlearn: 1866.1501170\ttotal: 4.9s\tremaining: 21.4s\n",
      "28:\tlearn: 1860.7858293\ttotal: 5.08s\tremaining: 21.2s\n",
      "29:\tlearn: 1855.7859966\ttotal: 5.25s\tremaining: 21s\n",
      "30:\tlearn: 1852.6318684\ttotal: 5.42s\tremaining: 20.8s\n",
      "31:\tlearn: 1848.5387603\ttotal: 5.59s\tremaining: 20.6s\n",
      "32:\tlearn: 1845.7325161\ttotal: 5.78s\tremaining: 20.5s\n",
      "33:\tlearn: 1842.2046714\ttotal: 5.95s\tremaining: 20.3s\n",
      "34:\tlearn: 1837.5680421\ttotal: 6.12s\tremaining: 20.1s\n",
      "35:\tlearn: 1833.7551101\ttotal: 6.3s\tremaining: 19.9s\n",
      "36:\tlearn: 1830.4986599\ttotal: 6.47s\tremaining: 19.8s\n",
      "37:\tlearn: 1825.7213060\ttotal: 6.63s\tremaining: 19.5s\n",
      "38:\tlearn: 1821.7677734\ttotal: 6.81s\tremaining: 19.4s\n",
      "39:\tlearn: 1819.7628154\ttotal: 6.97s\tremaining: 19.2s\n",
      "40:\tlearn: 1817.6840258\ttotal: 7.15s\tremaining: 19s\n",
      "41:\tlearn: 1814.8691423\ttotal: 7.33s\tremaining: 18.8s\n",
      "42:\tlearn: 1811.3250497\ttotal: 7.5s\tremaining: 18.7s\n",
      "43:\tlearn: 1808.5457803\ttotal: 7.68s\tremaining: 18.5s\n",
      "44:\tlearn: 1805.2146238\ttotal: 7.85s\tremaining: 18.3s\n",
      "45:\tlearn: 1802.7416654\ttotal: 8.03s\tremaining: 18.1s\n",
      "46:\tlearn: 1801.8705168\ttotal: 8.2s\tremaining: 18s\n",
      "47:\tlearn: 1797.4290430\ttotal: 8.37s\tremaining: 17.8s\n",
      "48:\tlearn: 1795.2443781\ttotal: 8.54s\tremaining: 17.6s\n",
      "49:\tlearn: 1792.8058494\ttotal: 8.72s\tremaining: 17.4s\n",
      "50:\tlearn: 1790.2661349\ttotal: 8.89s\tremaining: 17.2s\n",
      "51:\tlearn: 1787.6024503\ttotal: 9.06s\tremaining: 17.1s\n",
      "52:\tlearn: 1785.3057944\ttotal: 9.23s\tremaining: 16.9s\n",
      "53:\tlearn: 1782.6993403\ttotal: 9.41s\tremaining: 16.7s\n",
      "54:\tlearn: 1778.3694852\ttotal: 9.58s\tremaining: 16.5s\n",
      "55:\tlearn: 1775.9505558\ttotal: 9.75s\tremaining: 16.4s\n",
      "56:\tlearn: 1772.4936793\ttotal: 9.93s\tremaining: 16.2s\n",
      "57:\tlearn: 1770.7657129\ttotal: 10.1s\tremaining: 16s\n",
      "58:\tlearn: 1768.6634344\ttotal: 10.3s\tremaining: 15.9s\n",
      "59:\tlearn: 1766.8242057\ttotal: 10.5s\tremaining: 15.7s\n",
      "60:\tlearn: 1764.4634718\ttotal: 10.6s\tremaining: 15.5s\n",
      "61:\tlearn: 1762.7315626\ttotal: 10.8s\tremaining: 15.3s\n",
      "62:\tlearn: 1759.3618656\ttotal: 11s\tremaining: 15.2s\n",
      "63:\tlearn: 1756.9385546\ttotal: 11.1s\tremaining: 15s\n",
      "64:\tlearn: 1754.9221826\ttotal: 11.3s\tremaining: 14.8s\n",
      "65:\tlearn: 1752.9939713\ttotal: 11.5s\tremaining: 14.6s\n",
      "66:\tlearn: 1751.5668829\ttotal: 11.7s\tremaining: 14.4s\n",
      "67:\tlearn: 1749.9599582\ttotal: 11.8s\tremaining: 14.3s\n",
      "68:\tlearn: 1747.7317587\ttotal: 12s\tremaining: 14.1s\n",
      "69:\tlearn: 1745.5968428\ttotal: 12.2s\tremaining: 13.9s\n",
      "70:\tlearn: 1745.3117998\ttotal: 12.4s\tremaining: 13.8s\n",
      "71:\tlearn: 1743.4274101\ttotal: 12.5s\tremaining: 13.6s\n",
      "72:\tlearn: 1740.7911001\ttotal: 12.7s\tremaining: 13.4s\n",
      "73:\tlearn: 1738.7795495\ttotal: 12.9s\tremaining: 13.2s\n",
      "74:\tlearn: 1736.8911196\ttotal: 13.1s\tremaining: 13.1s\n",
      "75:\tlearn: 1735.6108362\ttotal: 13.2s\tremaining: 12.9s\n",
      "76:\tlearn: 1734.0387570\ttotal: 13.4s\tremaining: 12.7s\n",
      "77:\tlearn: 1732.4621638\ttotal: 13.6s\tremaining: 12.5s\n",
      "78:\tlearn: 1730.8735894\ttotal: 13.7s\tremaining: 12.3s\n",
      "79:\tlearn: 1730.6131228\ttotal: 13.9s\tremaining: 12.2s\n",
      "80:\tlearn: 1728.4434951\ttotal: 14.1s\tremaining: 12s\n",
      "81:\tlearn: 1726.5902544\ttotal: 14.2s\tremaining: 11.8s\n",
      "82:\tlearn: 1725.0342033\ttotal: 14.4s\tremaining: 11.6s\n",
      "83:\tlearn: 1724.4071119\ttotal: 14.6s\tremaining: 11.4s\n",
      "84:\tlearn: 1722.4978072\ttotal: 14.7s\tremaining: 11.3s\n",
      "85:\tlearn: 1721.1636813\ttotal: 14.9s\tremaining: 11.1s\n",
      "86:\tlearn: 1719.1173684\ttotal: 15.1s\tremaining: 10.9s\n",
      "87:\tlearn: 1717.5741003\ttotal: 15.3s\tremaining: 10.7s\n",
      "88:\tlearn: 1716.9758526\ttotal: 15.4s\tremaining: 10.6s\n",
      "89:\tlearn: 1715.2113216\ttotal: 15.6s\tremaining: 10.4s\n",
      "90:\tlearn: 1713.7516057\ttotal: 15.8s\tremaining: 10.2s\n",
      "91:\tlearn: 1713.1013727\ttotal: 16s\tremaining: 10.1s\n",
      "92:\tlearn: 1712.6805385\ttotal: 16.1s\tremaining: 9.88s\n",
      "93:\tlearn: 1709.9310604\ttotal: 16.3s\tremaining: 9.71s\n",
      "94:\tlearn: 1707.7154637\ttotal: 16.5s\tremaining: 9.54s\n",
      "95:\tlearn: 1707.1063944\ttotal: 16.7s\tremaining: 9.37s\n",
      "96:\tlearn: 1705.6292575\ttotal: 16.8s\tremaining: 9.19s\n",
      "97:\tlearn: 1704.7764771\ttotal: 17s\tremaining: 9.02s\n",
      "98:\tlearn: 1704.0073688\ttotal: 17.2s\tremaining: 8.84s\n",
      "99:\tlearn: 1701.8419658\ttotal: 17.3s\tremaining: 8.67s\n",
      "100:\tlearn: 1700.7578864\ttotal: 17.5s\tremaining: 8.5s\n",
      "101:\tlearn: 1699.0283563\ttotal: 17.7s\tremaining: 8.33s\n",
      "102:\tlearn: 1697.6159713\ttotal: 17.9s\tremaining: 8.15s\n",
      "103:\tlearn: 1696.6934708\ttotal: 18s\tremaining: 7.98s\n",
      "104:\tlearn: 1696.2150183\ttotal: 18.2s\tremaining: 7.81s\n",
      "105:\tlearn: 1694.6794645\ttotal: 18.4s\tremaining: 7.63s\n",
      "106:\tlearn: 1693.5152543\ttotal: 18.6s\tremaining: 7.46s\n",
      "107:\tlearn: 1693.4263078\ttotal: 18.7s\tremaining: 7.29s\n",
      "108:\tlearn: 1691.9480388\ttotal: 18.9s\tremaining: 7.11s\n",
      "109:\tlearn: 1689.8171004\ttotal: 19.1s\tremaining: 6.93s\n",
      "110:\tlearn: 1689.3441030\ttotal: 19.2s\tremaining: 6.76s\n",
      "111:\tlearn: 1687.9064629\ttotal: 19.4s\tremaining: 6.59s\n",
      "112:\tlearn: 1686.5716422\ttotal: 19.6s\tremaining: 6.42s\n",
      "113:\tlearn: 1685.4433529\ttotal: 19.8s\tremaining: 6.24s\n",
      "114:\tlearn: 1684.7099980\ttotal: 19.9s\tremaining: 6.07s\n",
      "115:\tlearn: 1683.4946328\ttotal: 20.1s\tremaining: 5.9s\n",
      "116:\tlearn: 1681.6154029\ttotal: 20.3s\tremaining: 5.73s\n",
      "117:\tlearn: 1680.6459423\ttotal: 20.5s\tremaining: 5.55s\n",
      "118:\tlearn: 1679.4742178\ttotal: 20.6s\tremaining: 5.38s\n",
      "119:\tlearn: 1677.8763849\ttotal: 20.8s\tremaining: 5.21s\n",
      "120:\tlearn: 1676.8597872\ttotal: 21s\tremaining: 5.03s\n",
      "121:\tlearn: 1676.0329017\ttotal: 21.2s\tremaining: 4.86s\n",
      "122:\tlearn: 1675.1496396\ttotal: 21.3s\tremaining: 4.68s\n",
      "123:\tlearn: 1674.0859067\ttotal: 21.5s\tremaining: 4.51s\n",
      "124:\tlearn: 1673.7388747\ttotal: 21.7s\tremaining: 4.34s\n",
      "125:\tlearn: 1672.3475746\ttotal: 21.9s\tremaining: 4.16s\n",
      "126:\tlearn: 1671.9684495\ttotal: 22s\tremaining: 3.99s\n",
      "127:\tlearn: 1670.9316832\ttotal: 22.2s\tremaining: 3.82s\n",
      "128:\tlearn: 1669.6496841\ttotal: 22.4s\tremaining: 3.64s\n",
      "129:\tlearn: 1668.2894413\ttotal: 22.6s\tremaining: 3.47s\n",
      "130:\tlearn: 1667.1215369\ttotal: 22.7s\tremaining: 3.3s\n",
      "131:\tlearn: 1666.5829903\ttotal: 22.9s\tremaining: 3.12s\n",
      "132:\tlearn: 1665.2302710\ttotal: 23.1s\tremaining: 2.95s\n",
      "133:\tlearn: 1664.3302205\ttotal: 23.3s\tremaining: 2.78s\n",
      "134:\tlearn: 1662.1465520\ttotal: 23.4s\tremaining: 2.6s\n",
      "135:\tlearn: 1661.5713192\ttotal: 23.6s\tremaining: 2.43s\n",
      "136:\tlearn: 1660.4779789\ttotal: 23.8s\tremaining: 2.26s\n",
      "137:\tlearn: 1659.0964242\ttotal: 24s\tremaining: 2.08s\n",
      "138:\tlearn: 1658.5290365\ttotal: 24.1s\tremaining: 1.91s\n",
      "139:\tlearn: 1657.4512010\ttotal: 24.3s\tremaining: 1.73s\n",
      "140:\tlearn: 1656.9102823\ttotal: 24.5s\tremaining: 1.56s\n",
      "141:\tlearn: 1655.7830324\ttotal: 24.6s\tremaining: 1.39s\n",
      "142:\tlearn: 1655.3004546\ttotal: 24.8s\tremaining: 1.21s\n",
      "143:\tlearn: 1654.7989769\ttotal: 25s\tremaining: 1.04s\n",
      "144:\tlearn: 1653.1928519\ttotal: 25.2s\tremaining: 867ms\n",
      "145:\tlearn: 1651.6925269\ttotal: 25.3s\tremaining: 694ms\n",
      "146:\tlearn: 1651.0388345\ttotal: 25.5s\tremaining: 520ms\n",
      "147:\tlearn: 1650.0164624\ttotal: 25.7s\tremaining: 347ms\n",
      "148:\tlearn: 1648.5857537\ttotal: 25.8s\tremaining: 173ms\n",
      "149:\tlearn: 1647.1945892\ttotal: 26s\tremaining: 0us\n",
      "CPU times: user 26.2 s, sys: 129 ms, total: 26.3 s\n",
      "Wall time: 26.7 s\n"
     ]
    },
    {
     "data": {
      "text/plain": [
       "<catboost.core.CatBoostRegressor at 0x7f1793fb3c70>"
      ]
     },
     "execution_count": 32,
     "metadata": {},
     "output_type": "execute_result"
    }
   ],
   "source": [
    "%%time\n",
    "\n",
    "#Llamar al catboosregressor\n",
    "model_catboost = CatBoostRegressor(cat_features = cat_features, max_depth=10, learning_rate=0.5, n_estimators=150, random_seed=12345, simple_ctr='Counter')\n",
    "#Entrenar modelo con conjunto de entrenamiento\n",
    "model_catboost.fit(x_train_1, y_train_1)"
   ]
  },
  {
   "cell_type": "code",
   "execution_count": 33,
   "metadata": {},
   "outputs": [
    {
     "name": "stdout",
     "output_type": "stream",
     "text": [
      "CPU times: user 127 ms, sys: 3.98 ms, total: 131 ms\n",
      "Wall time: 137 ms\n"
     ]
    }
   ],
   "source": [
    "%%time\n",
    "#Realizar predicciones del conjunto de validación\n",
    "y_pred_catboost = model_catboost.predict(x_valid_1)"
   ]
  },
  {
   "cell_type": "code",
   "execution_count": 34,
   "metadata": {},
   "outputs": [
    {
     "name": "stdout",
     "output_type": "stream",
     "text": [
      "RECM del modelo de bosque aleatorio en el conjunto de validación: 1826.5782027738\n"
     ]
    }
   ],
   "source": [
    "#Caclular RECM para modelo Catboost\n",
    "RECM_catboost = mean_squared_error(y_valid_1, y_pred_catboost)**0.5\n",
    "print(\"RECM del modelo de bosque aleatorio en el conjunto de validación:\", RECM_catboost)"
   ]
  },
  {
   "cell_type": "markdown",
   "metadata": {},
   "source": [
    "## Análisis del modelo"
   ]
  },
  {
   "cell_type": "markdown",
   "metadata": {},
   "source": [
    "Comparación de calidad y tiempo de ejecución de entrenamiento de los diferentes modelos:\n",
    "\n",
    "Regresión lineal =\n",
    "    RECM: 3348.04 / tiempo: 2.83s\n",
    "   \n",
    "Bosque aleatorio =\n",
    "    RECM: 1868.39 / tiempo: 19.1s\n",
    "    \n",
    "LightGBM =\n",
    "    RECM: 1790.36 / tiempo: 3.78s\n",
    "\n",
    "Catboost =\n",
    "    RECM: 1826.57 / tiempo: 26.7s\n",
    "    \n",
    "La velocidad para la predicción de todos los modelos esta por debajo de 1 segundo."
   ]
  },
  {
   "cell_type": "markdown",
   "metadata": {},
   "source": [
    "Con base en el resultado de RECM y el tiempo de entrenamiento se puede observar que el modelo que tiene los mejores resultados es LightGBM con un tiempo menor a 4 segundos y el menor RECM.\n",
    "\n",
    "Todos los modelos tienen un mejor desempeño que la prueba de cordura (modelo de regresión lineal)."
   ]
  },
  {
   "cell_type": "markdown",
   "metadata": {},
   "source": [
    "## Conclusión\n",
    "\n"
   ]
  },
  {
   "cell_type": "markdown",
   "metadata": {},
   "source": [
    "Al realizar este proyecto en el que se compararon los modelos de regresión lineal, y bosque aleatorio con los métodos de potenciación de gradiente, se concluye que todos los modelos tienen una mejor calidad que el de Regresión lineal ya que en este no hay ajuste de hiperparametros. Si existe una diferencia significativa entre el RECM del resto de los modelos contra el de regresión lineal.\n",
    "El mejor modelo para este proyecto fue el de potenciación de gradiente LightGBM, ya que se obtuvo el menor RECM y un tiempo de entrenamiento muy bajo.\n",
    "Con al ajuste de hiperparametros se podria mejorar la calidad del modelo aun mas, pero esto tiene una repercusión en el tiempo necesario para realizar el entrenamiento."
   ]
  }
 ],
 "metadata": {
  "ExecuteTimeLog": [
   {
    "duration": 457,
    "start_time": "2024-06-21T21:04:18.801Z"
   },
   {
    "duration": 791,
    "start_time": "2024-06-21T21:05:16.746Z"
   },
   {
    "duration": 152,
    "start_time": "2024-06-21T21:05:40.565Z"
   },
   {
    "duration": 38,
    "start_time": "2024-06-21T21:07:05.423Z"
   },
   {
    "duration": 111,
    "start_time": "2024-06-21T21:11:00.440Z"
   },
   {
    "duration": 446,
    "start_time": "2024-06-21T21:57:21.536Z"
   },
   {
    "duration": 350,
    "start_time": "2024-06-30T15:33:59.803Z"
   },
   {
    "duration": 444,
    "start_time": "2024-06-30T15:34:10.373Z"
   },
   {
    "duration": 884,
    "start_time": "2024-06-30T15:34:10.820Z"
   },
   {
    "duration": 169,
    "start_time": "2024-06-30T15:34:11.712Z"
   },
   {
    "duration": 78,
    "start_time": "2024-06-30T15:34:11.886Z"
   },
   {
    "duration": 126,
    "start_time": "2024-06-30T15:34:11.967Z"
   },
   {
    "duration": 476,
    "start_time": "2024-06-30T15:34:12.099Z"
   },
   {
    "duration": 5,
    "start_time": "2024-06-30T15:34:12.578Z"
   },
   {
    "duration": 48,
    "start_time": "2024-06-30T15:34:12.586Z"
   },
   {
    "duration": 21,
    "start_time": "2024-06-30T15:34:35.034Z"
   },
   {
    "duration": 8,
    "start_time": "2024-06-30T15:34:53.389Z"
   },
   {
    "duration": 245,
    "start_time": "2024-06-30T15:41:27.644Z"
   },
   {
    "duration": 22,
    "start_time": "2024-06-30T15:41:46.338Z"
   },
   {
    "duration": 685,
    "start_time": "2024-06-30T15:46:06.367Z"
   },
   {
    "duration": 209,
    "start_time": "2024-06-30T15:46:55.861Z"
   },
   {
    "duration": 412,
    "start_time": "2024-06-30T15:47:44.020Z"
   },
   {
    "duration": 196,
    "start_time": "2024-06-30T15:51:28.228Z"
   },
   {
    "duration": 2350,
    "start_time": "2024-06-30T15:52:26.463Z"
   },
   {
    "duration": 28,
    "start_time": "2024-06-30T15:54:26.803Z"
   },
   {
    "duration": 4,
    "start_time": "2024-06-30T15:54:39.973Z"
   },
   {
    "duration": 10,
    "start_time": "2024-06-30T15:54:45.356Z"
   },
   {
    "duration": 1289,
    "start_time": "2024-06-30T18:24:21.651Z"
   },
   {
    "duration": 3,
    "start_time": "2024-06-30T18:41:12.408Z"
   },
   {
    "duration": 406,
    "start_time": "2024-06-30T18:42:22.148Z"
   },
   {
    "duration": 1220,
    "start_time": "2024-06-30T18:42:31.742Z"
   },
   {
    "duration": 763,
    "start_time": "2024-06-30T18:42:32.967Z"
   },
   {
    "duration": 162,
    "start_time": "2024-06-30T18:42:33.733Z"
   },
   {
    "duration": 55,
    "start_time": "2024-06-30T18:42:33.898Z"
   },
   {
    "duration": 130,
    "start_time": "2024-06-30T18:42:33.957Z"
   },
   {
    "duration": 474,
    "start_time": "2024-06-30T18:42:34.091Z"
   },
   {
    "duration": 4,
    "start_time": "2024-06-30T18:42:34.568Z"
   },
   {
    "duration": 21,
    "start_time": "2024-06-30T18:42:34.576Z"
   },
   {
    "duration": 15,
    "start_time": "2024-06-30T18:42:34.623Z"
   },
   {
    "duration": 8,
    "start_time": "2024-06-30T18:42:34.642Z"
   },
   {
    "duration": 268,
    "start_time": "2024-06-30T18:42:34.654Z"
   },
   {
    "duration": 22,
    "start_time": "2024-06-30T18:42:34.925Z"
   },
   {
    "duration": 236,
    "start_time": "2024-06-30T18:42:34.950Z"
   },
   {
    "duration": 2349,
    "start_time": "2024-06-30T18:42:35.192Z"
   },
   {
    "duration": 82,
    "start_time": "2024-06-30T18:42:37.545Z"
   },
   {
    "duration": 24142,
    "start_time": "2024-06-30T18:42:37.629Z"
   },
   {
    "duration": 8,
    "start_time": "2024-06-30T18:44:22.379Z"
   },
   {
    "duration": 8,
    "start_time": "2024-06-30T18:46:38.341Z"
   },
   {
    "duration": 1262,
    "start_time": "2024-06-30T18:47:28.761Z"
   },
   {
    "duration": 786,
    "start_time": "2024-06-30T18:47:30.027Z"
   },
   {
    "duration": 171,
    "start_time": "2024-06-30T18:47:30.816Z"
   },
   {
    "duration": 53,
    "start_time": "2024-06-30T18:47:30.992Z"
   },
   {
    "duration": 133,
    "start_time": "2024-06-30T18:47:31.049Z"
   },
   {
    "duration": 497,
    "start_time": "2024-06-30T18:47:31.185Z"
   },
   {
    "duration": 5,
    "start_time": "2024-06-30T18:47:31.685Z"
   },
   {
    "duration": 40,
    "start_time": "2024-06-30T18:47:31.694Z"
   },
   {
    "duration": 17,
    "start_time": "2024-06-30T18:47:31.737Z"
   },
   {
    "duration": 8,
    "start_time": "2024-06-30T18:47:31.759Z"
   },
   {
    "duration": 290,
    "start_time": "2024-06-30T18:47:31.771Z"
   },
   {
    "duration": 26,
    "start_time": "2024-06-30T18:47:32.064Z"
   },
   {
    "duration": 234,
    "start_time": "2024-06-30T18:47:32.093Z"
   },
   {
    "duration": 2508,
    "start_time": "2024-06-30T18:47:32.330Z"
   },
   {
    "duration": 86,
    "start_time": "2024-06-30T18:47:34.842Z"
   },
   {
    "duration": 29348,
    "start_time": "2024-06-30T18:47:34.933Z"
   },
   {
    "duration": 8,
    "start_time": "2024-06-30T18:48:04.284Z"
   },
   {
    "duration": 28309,
    "start_time": "2024-06-30T18:51:23.808Z"
   },
   {
    "duration": 9,
    "start_time": "2024-06-30T18:51:52.120Z"
   },
   {
    "duration": 14194,
    "start_time": "2024-06-30T18:52:06.995Z"
   },
   {
    "duration": 8,
    "start_time": "2024-06-30T18:52:21.193Z"
   },
   {
    "duration": 17425,
    "start_time": "2024-06-30T18:52:31.793Z"
   },
   {
    "duration": 8,
    "start_time": "2024-06-30T18:52:49.224Z"
   },
   {
    "duration": 99,
    "start_time": "2024-06-30T18:54:20.561Z"
   },
   {
    "duration": 124,
    "start_time": "2024-06-30T19:06:20.587Z"
   },
   {
    "duration": 4,
    "start_time": "2024-06-30T19:11:22.862Z"
   },
   {
    "duration": 4,
    "start_time": "2024-06-30T19:16:02.452Z"
   },
   {
    "duration": 1120,
    "start_time": "2024-06-30T19:19:05.512Z"
   },
   {
    "duration": 3,
    "start_time": "2024-06-30T19:32:03.993Z"
   },
   {
    "duration": 4,
    "start_time": "2024-06-30T19:32:19.205Z"
   },
   {
    "duration": 4,
    "start_time": "2024-06-30T19:32:20.972Z"
   },
   {
    "duration": 158,
    "start_time": "2024-06-30T19:32:22.604Z"
   },
   {
    "duration": 4,
    "start_time": "2024-06-30T19:33:58.704Z"
   },
   {
    "duration": 4,
    "start_time": "2024-06-30T19:33:59.176Z"
   },
   {
    "duration": 159,
    "start_time": "2024-06-30T19:33:59.809Z"
   },
   {
    "duration": 5,
    "start_time": "2024-06-30T19:34:30.021Z"
   },
   {
    "duration": 4,
    "start_time": "2024-06-30T19:34:30.497Z"
   },
   {
    "duration": 142,
    "start_time": "2024-06-30T19:34:30.949Z"
   },
   {
    "duration": 4,
    "start_time": "2024-06-30T19:34:48.088Z"
   },
   {
    "duration": 4,
    "start_time": "2024-06-30T19:34:49.035Z"
   },
   {
    "duration": 153,
    "start_time": "2024-06-30T19:34:49.452Z"
   },
   {
    "duration": 4,
    "start_time": "2024-06-30T19:34:59.750Z"
   },
   {
    "duration": 4,
    "start_time": "2024-06-30T19:35:00.172Z"
   },
   {
    "duration": 160,
    "start_time": "2024-06-30T19:35:00.614Z"
   },
   {
    "duration": 4,
    "start_time": "2024-06-30T19:41:20.898Z"
   },
   {
    "duration": 3,
    "start_time": "2024-06-30T19:41:21.320Z"
   },
   {
    "duration": 146,
    "start_time": "2024-06-30T19:41:21.756Z"
   },
   {
    "duration": 164,
    "start_time": "2024-06-30T19:55:21.786Z"
   },
   {
    "duration": 22,
    "start_time": "2024-06-30T19:56:08.750Z"
   },
   {
    "duration": 4,
    "start_time": "2024-06-30T19:56:31.483Z"
   },
   {
    "duration": 4,
    "start_time": "2024-06-30T19:56:32.161Z"
   },
   {
    "duration": 2735,
    "start_time": "2024-06-30T19:56:32.701Z"
   },
   {
    "duration": 4,
    "start_time": "2024-06-30T19:58:35.989Z"
   },
   {
    "duration": 4,
    "start_time": "2024-06-30T19:59:16.923Z"
   },
   {
    "duration": 2895,
    "start_time": "2024-06-30T19:59:18.749Z"
   },
   {
    "duration": 419,
    "start_time": "2024-06-30T20:02:48.606Z"
   },
   {
    "duration": 9,
    "start_time": "2024-06-30T20:03:51.095Z"
   },
   {
    "duration": 3,
    "start_time": "2024-06-30T20:04:13.086Z"
   },
   {
    "duration": 112,
    "start_time": "2024-06-30T20:04:13.541Z"
   },
   {
    "duration": 399,
    "start_time": "2024-06-30T20:04:14.034Z"
   },
   {
    "duration": 1408,
    "start_time": "2024-06-30T20:04:32.115Z"
   },
   {
    "duration": 800,
    "start_time": "2024-06-30T20:04:33.527Z"
   },
   {
    "duration": 154,
    "start_time": "2024-06-30T20:04:34.331Z"
   },
   {
    "duration": 67,
    "start_time": "2024-06-30T20:04:34.489Z"
   },
   {
    "duration": 138,
    "start_time": "2024-06-30T20:04:34.562Z"
   },
   {
    "duration": 468,
    "start_time": "2024-06-30T20:04:34.704Z"
   },
   {
    "duration": 7,
    "start_time": "2024-06-30T20:04:35.176Z"
   },
   {
    "duration": 50,
    "start_time": "2024-06-30T20:04:35.186Z"
   },
   {
    "duration": 14,
    "start_time": "2024-06-30T20:04:35.239Z"
   },
   {
    "duration": 10,
    "start_time": "2024-06-30T20:04:35.257Z"
   },
   {
    "duration": 284,
    "start_time": "2024-06-30T20:04:35.271Z"
   },
   {
    "duration": 25,
    "start_time": "2024-06-30T20:04:35.557Z"
   },
   {
    "duration": 265,
    "start_time": "2024-06-30T20:04:35.585Z"
   },
   {
    "duration": 2689,
    "start_time": "2024-06-30T20:04:35.856Z"
   },
   {
    "duration": 78,
    "start_time": "2024-06-30T20:04:38.547Z"
   },
   {
    "duration": 18093,
    "start_time": "2024-06-30T20:04:38.630Z"
   },
   {
    "duration": 8,
    "start_time": "2024-06-30T20:04:56.726Z"
   },
   {
    "duration": 140,
    "start_time": "2024-06-30T20:04:56.739Z"
   },
   {
    "duration": 4,
    "start_time": "2024-06-30T20:04:56.883Z"
   },
   {
    "duration": 188,
    "start_time": "2024-06-30T20:04:56.890Z"
   },
   {
    "duration": 46,
    "start_time": "2024-06-30T20:04:57.082Z"
   },
   {
    "duration": 4,
    "start_time": "2024-06-30T20:04:57.131Z"
   },
   {
    "duration": 4,
    "start_time": "2024-06-30T20:04:57.139Z"
   },
   {
    "duration": 3277,
    "start_time": "2024-06-30T20:04:57.146Z"
   },
   {
    "duration": 409,
    "start_time": "2024-06-30T20:05:00.430Z"
   },
   {
    "duration": 8,
    "start_time": "2024-06-30T20:05:00.842Z"
   },
   {
    "duration": 4,
    "start_time": "2024-06-30T20:08:55.720Z"
   },
   {
    "duration": 955,
    "start_time": "2024-06-30T20:08:56.147Z"
   },
   {
    "duration": 5,
    "start_time": "2024-06-30T20:09:39.363Z"
   },
   {
    "duration": 6,
    "start_time": "2024-06-30T20:09:39.835Z"
   },
   {
    "duration": 4315,
    "start_time": "2024-06-30T20:09:40.327Z"
   },
   {
    "duration": 587,
    "start_time": "2024-06-30T20:09:44.646Z"
   },
   {
    "duration": 8,
    "start_time": "2024-06-30T20:09:45.236Z"
   },
   {
    "duration": 3,
    "start_time": "2024-06-30T20:10:14.431Z"
   },
   {
    "duration": 3955,
    "start_time": "2024-06-30T20:10:15.077Z"
   },
   {
    "duration": 508,
    "start_time": "2024-06-30T20:10:19.035Z"
   },
   {
    "duration": 8,
    "start_time": "2024-06-30T20:10:19.546Z"
   },
   {
    "duration": 3,
    "start_time": "2024-06-30T20:10:30.566Z"
   },
   {
    "duration": 3463,
    "start_time": "2024-06-30T20:10:31.079Z"
   },
   {
    "duration": 602,
    "start_time": "2024-06-30T20:10:34.546Z"
   },
   {
    "duration": 72,
    "start_time": "2024-06-30T20:10:35.151Z"
   },
   {
    "duration": 4,
    "start_time": "2024-06-30T20:10:42.584Z"
   },
   {
    "duration": 3456,
    "start_time": "2024-06-30T20:10:43.088Z"
   },
   {
    "duration": 593,
    "start_time": "2024-06-30T20:10:46.547Z"
   },
   {
    "duration": 9,
    "start_time": "2024-06-30T20:10:47.143Z"
   },
   {
    "duration": 6,
    "start_time": "2024-06-30T20:10:53.953Z"
   },
   {
    "duration": 3552,
    "start_time": "2024-06-30T20:10:54.479Z"
   },
   {
    "duration": 622,
    "start_time": "2024-06-30T20:10:58.035Z"
   },
   {
    "duration": 9,
    "start_time": "2024-06-30T20:10:58.724Z"
   },
   {
    "duration": 5,
    "start_time": "2024-06-30T20:11:08.697Z"
   },
   {
    "duration": 3604,
    "start_time": "2024-06-30T20:11:09.228Z"
   },
   {
    "duration": 610,
    "start_time": "2024-06-30T20:11:12.836Z"
   },
   {
    "duration": 75,
    "start_time": "2024-06-30T20:11:13.449Z"
   },
   {
    "duration": 4,
    "start_time": "2024-06-30T20:11:28.728Z"
   },
   {
    "duration": 3525,
    "start_time": "2024-06-30T20:11:29.498Z"
   },
   {
    "duration": 623,
    "start_time": "2024-06-30T20:11:33.027Z"
   },
   {
    "duration": 8,
    "start_time": "2024-06-30T20:11:33.725Z"
   },
   {
    "duration": 5,
    "start_time": "2024-06-30T20:11:44.417Z"
   },
   {
    "duration": 2031,
    "start_time": "2024-06-30T20:11:44.902Z"
   },
   {
    "duration": 498,
    "start_time": "2024-06-30T20:11:46.937Z"
   },
   {
    "duration": 8,
    "start_time": "2024-06-30T20:11:47.439Z"
   },
   {
    "duration": 5,
    "start_time": "2024-06-30T20:11:58.060Z"
   },
   {
    "duration": 3230,
    "start_time": "2024-06-30T20:11:58.807Z"
   },
   {
    "duration": 609,
    "start_time": "2024-06-30T20:12:02.040Z"
   },
   {
    "duration": 8,
    "start_time": "2024-06-30T20:12:02.653Z"
   },
   {
    "duration": 4,
    "start_time": "2024-06-30T20:12:08.990Z"
   },
   {
    "duration": 4193,
    "start_time": "2024-06-30T20:12:09.548Z"
   },
   {
    "duration": 689,
    "start_time": "2024-06-30T20:12:13.746Z"
   },
   {
    "duration": 10,
    "start_time": "2024-06-30T20:12:14.438Z"
   },
   {
    "duration": 4,
    "start_time": "2024-06-30T20:18:18.391Z"
   },
   {
    "duration": 3338,
    "start_time": "2024-06-30T20:18:19.288Z"
   },
   {
    "duration": 622,
    "start_time": "2024-06-30T20:18:22.630Z"
   },
   {
    "duration": 72,
    "start_time": "2024-06-30T20:18:23.255Z"
   },
   {
    "duration": 96,
    "start_time": "2024-06-30T20:21:19.661Z"
   },
   {
    "duration": 3,
    "start_time": "2024-06-30T20:21:20.046Z"
   },
   {
    "duration": 166,
    "start_time": "2024-06-30T20:21:20.491Z"
   },
   {
    "duration": 23,
    "start_time": "2024-06-30T20:21:20.961Z"
   },
   {
    "duration": 5,
    "start_time": "2024-06-30T20:21:21.734Z"
   },
   {
    "duration": 5,
    "start_time": "2024-06-30T20:21:22.272Z"
   },
   {
    "duration": 3469,
    "start_time": "2024-06-30T20:21:22.976Z"
   },
   {
    "duration": 699,
    "start_time": "2024-06-30T20:21:26.449Z"
   },
   {
    "duration": 72,
    "start_time": "2024-06-30T20:21:27.151Z"
   },
   {
    "duration": 10,
    "start_time": "2024-06-30T20:21:40.469Z"
   },
   {
    "duration": 112,
    "start_time": "2024-06-30T20:22:36.437Z"
   },
   {
    "duration": 4,
    "start_time": "2024-06-30T20:38:49.964Z"
   },
   {
    "duration": 4,
    "start_time": "2024-06-30T20:40:02.345Z"
   },
   {
    "duration": 995,
    "start_time": "2024-06-30T20:41:20.131Z"
   },
   {
    "duration": 1200,
    "start_time": "2024-06-30T20:44:30.438Z"
   },
   {
    "duration": 144,
    "start_time": "2024-06-30T20:44:50.489Z"
   },
   {
    "duration": 155,
    "start_time": "2024-06-30T20:45:03.795Z"
   },
   {
    "duration": 4,
    "start_time": "2024-06-30T20:45:09.126Z"
   },
   {
    "duration": 87,
    "start_time": "2024-06-30T20:45:09.752Z"
   },
   {
    "duration": 15,
    "start_time": "2024-06-30T20:45:10.535Z"
   },
   {
    "duration": 11,
    "start_time": "2024-06-30T20:45:14.307Z"
   },
   {
    "duration": 229,
    "start_time": "2024-06-30T20:45:16.685Z"
   },
   {
    "duration": 22,
    "start_time": "2024-06-30T20:45:18.474Z"
   },
   {
    "duration": 219,
    "start_time": "2024-06-30T20:45:21.372Z"
   },
   {
    "duration": 2787,
    "start_time": "2024-06-30T20:45:22.844Z"
   },
   {
    "duration": 88,
    "start_time": "2024-06-30T20:45:25.635Z"
   },
   {
    "duration": 19097,
    "start_time": "2024-06-30T20:45:30.678Z"
   },
   {
    "duration": 8,
    "start_time": "2024-06-30T20:45:49.779Z"
   },
   {
    "duration": 113,
    "start_time": "2024-06-30T20:45:57.049Z"
   },
   {
    "duration": 4,
    "start_time": "2024-06-30T20:45:59.119Z"
   },
   {
    "duration": 182,
    "start_time": "2024-06-30T20:46:00.196Z"
   },
   {
    "duration": 25,
    "start_time": "2024-06-30T20:46:02.565Z"
   },
   {
    "duration": 4,
    "start_time": "2024-06-30T20:46:08.214Z"
   },
   {
    "duration": 4,
    "start_time": "2024-06-30T20:46:09.244Z"
   },
   {
    "duration": 21933,
    "start_time": "2024-06-30T20:46:10.511Z"
   },
   {
    "duration": 694,
    "start_time": "2024-06-30T20:46:32.448Z"
   },
   {
    "duration": 9,
    "start_time": "2024-06-30T20:46:33.145Z"
   },
   {
    "duration": 113,
    "start_time": "2024-06-30T20:48:36.272Z"
   },
   {
    "duration": 31984,
    "start_time": "2024-06-30T20:48:51.811Z"
   },
   {
    "duration": 128,
    "start_time": "2024-06-30T20:50:42.898Z"
   },
   {
    "duration": 128,
    "start_time": "2024-06-30T20:51:24.426Z"
   },
   {
    "duration": 9,
    "start_time": "2024-06-30T20:51:41.751Z"
   },
   {
    "duration": 31981,
    "start_time": "2024-06-30T20:52:37.284Z"
   },
   {
    "duration": 126,
    "start_time": "2024-06-30T20:53:12.570Z"
   },
   {
    "duration": 9,
    "start_time": "2024-06-30T20:53:13.031Z"
   },
   {
    "duration": 230706,
    "start_time": "2024-06-30T20:53:31.959Z"
   },
   {
    "duration": 338,
    "start_time": "2024-06-30T20:57:55.079Z"
   },
   {
    "duration": 8,
    "start_time": "2024-06-30T20:57:55.519Z"
   },
   {
    "duration": 46979,
    "start_time": "2024-06-30T21:01:54.967Z"
   },
   {
    "duration": 137,
    "start_time": "2024-06-30T21:02:45.544Z"
   },
   {
    "duration": 8,
    "start_time": "2024-06-30T21:02:46.135Z"
   },
   {
    "duration": 163456,
    "start_time": "2024-06-30T21:03:08.127Z"
   },
   {
    "duration": 235,
    "start_time": "2024-06-30T21:18:26.012Z"
   },
   {
    "duration": 9,
    "start_time": "2024-06-30T21:18:26.528Z"
   },
   {
    "duration": 9,
    "start_time": "2024-06-30T21:27:21.154Z"
   },
   {
    "duration": 162787,
    "start_time": "2024-06-30T21:30:19.731Z"
   },
   {
    "duration": 197,
    "start_time": "2024-06-30T21:33:13.227Z"
   },
   {
    "duration": 14,
    "start_time": "2024-06-30T21:33:13.739Z"
   },
   {
    "duration": 1541,
    "start_time": "2024-06-30T21:34:38.606Z"
   },
   {
    "duration": 826,
    "start_time": "2024-06-30T21:34:40.151Z"
   },
   {
    "duration": 175,
    "start_time": "2024-06-30T21:34:40.980Z"
   },
   {
    "duration": 44,
    "start_time": "2024-06-30T21:34:41.159Z"
   },
   {
    "duration": 133,
    "start_time": "2024-06-30T21:34:41.224Z"
   },
   {
    "duration": 464,
    "start_time": "2024-06-30T21:34:41.361Z"
   },
   {
    "duration": 143,
    "start_time": "2024-06-30T21:34:41.828Z"
   },
   {
    "duration": 158,
    "start_time": "2024-06-30T21:34:41.974Z"
   },
   {
    "duration": 4,
    "start_time": "2024-06-30T21:34:42.135Z"
   },
   {
    "duration": 116,
    "start_time": "2024-06-30T21:34:42.146Z"
   },
   {
    "duration": 18,
    "start_time": "2024-06-30T21:34:42.266Z"
   },
   {
    "duration": 9,
    "start_time": "2024-06-30T21:34:42.288Z"
   },
   {
    "duration": 289,
    "start_time": "2024-06-30T21:34:42.300Z"
   },
   {
    "duration": 33,
    "start_time": "2024-06-30T21:34:42.591Z"
   },
   {
    "duration": 240,
    "start_time": "2024-06-30T21:34:42.627Z"
   },
   {
    "duration": 3252,
    "start_time": "2024-06-30T21:34:42.871Z"
   },
   {
    "duration": 10,
    "start_time": "2024-06-30T21:34:46.126Z"
   },
   {
    "duration": 19118,
    "start_time": "2024-06-30T21:34:46.139Z"
   },
   {
    "duration": 9,
    "start_time": "2024-06-30T21:35:05.260Z"
   },
   {
    "duration": 166,
    "start_time": "2024-06-30T21:35:05.272Z"
   },
   {
    "duration": 4,
    "start_time": "2024-06-30T21:35:05.441Z"
   },
   {
    "duration": 202,
    "start_time": "2024-06-30T21:35:05.448Z"
   },
   {
    "duration": 25,
    "start_time": "2024-06-30T21:35:05.653Z"
   },
   {
    "duration": 5,
    "start_time": "2024-06-30T21:35:05.685Z"
   },
   {
    "duration": 30,
    "start_time": "2024-06-30T21:35:05.694Z"
   },
   {
    "duration": 3608,
    "start_time": "2024-06-30T21:35:05.727Z"
   },
   {
    "duration": 705,
    "start_time": "2024-06-30T21:35:09.338Z"
   },
   {
    "duration": 8,
    "start_time": "2024-06-30T21:35:10.051Z"
   },
   {
    "duration": 142,
    "start_time": "2024-06-30T21:35:10.065Z"
   },
   {
    "duration": 105151,
    "start_time": "2024-06-30T21:35:10.210Z"
   },
   {
    "duration": 160,
    "start_time": "2024-06-30T21:36:55.366Z"
   },
   {
    "duration": 8,
    "start_time": "2024-06-30T21:36:55.529Z"
   },
   {
    "duration": 31409,
    "start_time": "2024-06-30T21:37:14.560Z"
   },
   {
    "duration": 121,
    "start_time": "2024-06-30T21:37:50.167Z"
   },
   {
    "duration": 11,
    "start_time": "2024-06-30T21:37:50.666Z"
   },
   {
    "duration": 51755,
    "start_time": "2024-06-30T21:38:05.405Z"
   },
   {
    "duration": 137,
    "start_time": "2024-06-30T21:38:59.943Z"
   },
   {
    "duration": 9,
    "start_time": "2024-06-30T21:39:00.430Z"
   },
   {
    "duration": 17412,
    "start_time": "2024-06-30T21:39:16.421Z"
   },
   {
    "duration": 120,
    "start_time": "2024-06-30T21:39:40.939Z"
   },
   {
    "duration": 7,
    "start_time": "2024-06-30T21:39:41.978Z"
   },
   {
    "duration": 17543,
    "start_time": "2024-06-30T21:39:52.702Z"
   },
   {
    "duration": 112,
    "start_time": "2024-06-30T21:40:12.500Z"
   },
   {
    "duration": 8,
    "start_time": "2024-06-30T21:40:12.991Z"
   },
   {
    "duration": 17484,
    "start_time": "2024-06-30T21:40:22.836Z"
   },
   {
    "duration": 116,
    "start_time": "2024-06-30T21:40:43.059Z"
   },
   {
    "duration": 10,
    "start_time": "2024-06-30T21:40:43.596Z"
   },
   {
    "duration": 17613,
    "start_time": "2024-06-30T21:40:51.038Z"
   },
   {
    "duration": 157,
    "start_time": "2024-06-30T21:41:12.383Z"
   },
   {
    "duration": 12,
    "start_time": "2024-06-30T21:41:13.142Z"
   },
   {
    "duration": 26074,
    "start_time": "2024-06-30T21:41:21.207Z"
   },
   {
    "duration": 174,
    "start_time": "2024-06-30T21:42:04.571Z"
   },
   {
    "duration": 7,
    "start_time": "2024-06-30T21:42:05.121Z"
   },
   {
    "duration": 124093,
    "start_time": "2024-06-30T21:42:13.534Z"
   },
   {
    "duration": 196,
    "start_time": "2024-06-30T21:45:36.556Z"
   },
   {
    "duration": 7,
    "start_time": "2024-06-30T21:45:36.967Z"
   },
   {
    "duration": 16835,
    "start_time": "2024-06-30T21:45:45.831Z"
   },
   {
    "duration": 102,
    "start_time": "2024-06-30T21:46:05.533Z"
   },
   {
    "duration": 8,
    "start_time": "2024-06-30T21:46:06.047Z"
   },
   {
    "duration": 217124,
    "start_time": "2024-06-30T21:46:16.119Z"
   },
   {
    "duration": 550,
    "start_time": "2024-06-30T21:49:56.439Z"
   },
   {
    "duration": 9,
    "start_time": "2024-06-30T21:49:56.992Z"
   },
   {
    "duration": 5,
    "start_time": "2024-06-30T21:53:07.151Z"
   },
   {
    "duration": 3233,
    "start_time": "2024-06-30T21:53:24.594Z"
   },
   {
    "duration": 590,
    "start_time": "2024-06-30T21:54:14.450Z"
   },
   {
    "duration": 619,
    "start_time": "2024-06-30T21:54:19.327Z"
   },
   {
    "duration": 585,
    "start_time": "2024-06-30T21:54:28.458Z"
   },
   {
    "duration": 3097,
    "start_time": "2024-06-30T21:54:36.040Z"
   },
   {
    "duration": 313,
    "start_time": "2024-06-30T21:55:34.990Z"
   },
   {
    "duration": 1409,
    "start_time": "2024-06-30T21:55:41.979Z"
   },
   {
    "duration": 804,
    "start_time": "2024-06-30T21:55:43.392Z"
   },
   {
    "duration": 151,
    "start_time": "2024-06-30T21:55:44.198Z"
   },
   {
    "duration": 38,
    "start_time": "2024-06-30T21:55:44.352Z"
   },
   {
    "duration": 121,
    "start_time": "2024-06-30T21:55:44.425Z"
   },
   {
    "duration": 454,
    "start_time": "2024-06-30T21:55:44.549Z"
   },
   {
    "duration": 139,
    "start_time": "2024-06-30T21:55:45.005Z"
   },
   {
    "duration": 159,
    "start_time": "2024-06-30T21:55:45.147Z"
   },
   {
    "duration": 14,
    "start_time": "2024-06-30T21:55:45.310Z"
   },
   {
    "duration": 103,
    "start_time": "2024-06-30T21:55:45.326Z"
   },
   {
    "duration": 14,
    "start_time": "2024-06-30T21:55:45.432Z"
   },
   {
    "duration": 9,
    "start_time": "2024-06-30T21:55:45.449Z"
   },
   {
    "duration": 286,
    "start_time": "2024-06-30T21:55:45.461Z"
   },
   {
    "duration": 21,
    "start_time": "2024-06-30T21:55:45.754Z"
   },
   {
    "duration": 239,
    "start_time": "2024-06-30T21:55:45.777Z"
   },
   {
    "duration": 2610,
    "start_time": "2024-06-30T21:55:46.019Z"
   },
   {
    "duration": 14,
    "start_time": "2024-06-30T21:55:48.633Z"
   },
   {
    "duration": 17154,
    "start_time": "2024-06-30T21:55:48.652Z"
   },
   {
    "duration": 15,
    "start_time": "2024-06-30T21:56:05.809Z"
   },
   {
    "duration": 129,
    "start_time": "2024-06-30T21:56:05.827Z"
   },
   {
    "duration": 8,
    "start_time": "2024-06-30T21:56:05.959Z"
   },
   {
    "duration": 191,
    "start_time": "2024-06-30T21:56:05.970Z"
   },
   {
    "duration": 22,
    "start_time": "2024-06-30T21:56:06.164Z"
   },
   {
    "duration": 5,
    "start_time": "2024-06-30T21:56:06.188Z"
   },
   {
    "duration": 28,
    "start_time": "2024-06-30T21:56:06.196Z"
   },
   {
    "duration": 3404,
    "start_time": "2024-06-30T21:56:06.228Z"
   },
   {
    "duration": 629,
    "start_time": "2024-06-30T21:56:09.634Z"
   },
   {
    "duration": 13,
    "start_time": "2024-06-30T21:56:10.323Z"
   },
   {
    "duration": 115,
    "start_time": "2024-06-30T21:56:10.341Z"
   },
   {
    "duration": 4,
    "start_time": "2024-06-30T21:56:10.459Z"
   },
   {
    "duration": 0,
    "start_time": "2024-06-30T21:56:10.467Z"
   },
   {
    "duration": 0,
    "start_time": "2024-06-30T21:56:10.469Z"
   },
   {
    "duration": 213951,
    "start_time": "2024-06-30T21:59:30.018Z"
   },
   {
    "duration": 2835,
    "start_time": "2024-06-30T22:03:14.701Z"
   },
   {
    "duration": 26298,
    "start_time": "2024-06-30T22:03:28.674Z"
   },
   {
    "duration": 132,
    "start_time": "2024-06-30T22:03:57.938Z"
   },
   {
    "duration": 7,
    "start_time": "2024-06-30T22:03:58.578Z"
   },
   {
    "duration": 5,
    "start_time": "2024-06-30T22:04:38.617Z"
   },
   {
    "duration": 10,
    "start_time": "2024-06-30T22:05:04.184Z"
   },
   {
    "duration": 22,
    "start_time": "2024-06-30T22:05:37.304Z"
   },
   {
    "duration": 2906,
    "start_time": "2024-06-30T22:05:45.717Z"
   },
   {
    "duration": 19245,
    "start_time": "2024-06-30T22:06:15.772Z"
   },
   {
    "duration": 28,
    "start_time": "2024-06-30T22:21:50.917Z"
   },
   {
    "duration": 7,
    "start_time": "2024-06-30T22:21:51.896Z"
   },
   {
    "duration": 29,
    "start_time": "2024-06-30T22:22:00.485Z"
   },
   {
    "duration": 180,
    "start_time": "2024-06-30T22:22:37.815Z"
   },
   {
    "duration": 7,
    "start_time": "2024-06-30T22:22:52.467Z"
   },
   {
    "duration": 568,
    "start_time": "2024-06-30T22:23:06.982Z"
   },
   {
    "duration": 138,
    "start_time": "2024-06-30T22:23:20.490Z"
   },
   {
    "duration": 1482,
    "start_time": "2024-06-30T22:30:41.118Z"
   },
   {
    "duration": 767,
    "start_time": "2024-06-30T22:30:42.604Z"
   },
   {
    "duration": 168,
    "start_time": "2024-06-30T22:30:43.375Z"
   },
   {
    "duration": 52,
    "start_time": "2024-06-30T22:30:43.547Z"
   },
   {
    "duration": 130,
    "start_time": "2024-06-30T22:30:43.624Z"
   },
   {
    "duration": 467,
    "start_time": "2024-06-30T22:30:43.757Z"
   },
   {
    "duration": 143,
    "start_time": "2024-06-30T22:30:44.227Z"
   },
   {
    "duration": 160,
    "start_time": "2024-06-30T22:30:44.374Z"
   },
   {
    "duration": 5,
    "start_time": "2024-06-30T22:30:44.538Z"
   },
   {
    "duration": 119,
    "start_time": "2024-06-30T22:30:44.546Z"
   },
   {
    "duration": 16,
    "start_time": "2024-06-30T22:30:44.669Z"
   },
   {
    "duration": 12,
    "start_time": "2024-06-30T22:30:44.689Z"
   },
   {
    "duration": 268,
    "start_time": "2024-06-30T22:30:44.725Z"
   },
   {
    "duration": 38,
    "start_time": "2024-06-30T22:30:45.000Z"
   },
   {
    "duration": 243,
    "start_time": "2024-06-30T22:30:45.041Z"
   },
   {
    "duration": 2842,
    "start_time": "2024-06-30T22:30:45.287Z"
   },
   {
    "duration": 107,
    "start_time": "2024-06-30T22:30:48.132Z"
   },
   {
    "duration": 81,
    "start_time": "2024-06-30T22:30:48.242Z"
   },
   {
    "duration": 19078,
    "start_time": "2024-06-30T22:30:48.328Z"
   },
   {
    "duration": 202,
    "start_time": "2024-06-30T22:31:07.412Z"
   },
   {
    "duration": 13,
    "start_time": "2024-06-30T22:31:07.617Z"
   },
   {
    "duration": 157,
    "start_time": "2024-06-30T22:31:07.633Z"
   },
   {
    "duration": 4,
    "start_time": "2024-06-30T22:31:07.793Z"
   },
   {
    "duration": 200,
    "start_time": "2024-06-30T22:31:07.800Z"
   },
   {
    "duration": 34,
    "start_time": "2024-06-30T22:31:08.003Z"
   },
   {
    "duration": 4,
    "start_time": "2024-06-30T22:31:08.041Z"
   },
   {
    "duration": 5,
    "start_time": "2024-06-30T22:31:08.049Z"
   },
   {
    "duration": 3785,
    "start_time": "2024-06-30T22:31:08.057Z"
   },
   {
    "duration": 714,
    "start_time": "2024-06-30T22:31:11.845Z"
   },
   {
    "duration": 65,
    "start_time": "2024-06-30T22:31:12.563Z"
   },
   {
    "duration": 141,
    "start_time": "2024-06-30T22:31:12.632Z"
   },
   {
    "duration": 26731,
    "start_time": "2024-06-30T22:31:12.776Z"
   },
   {
    "duration": 141,
    "start_time": "2024-06-30T22:31:39.511Z"
   },
   {
    "duration": 10,
    "start_time": "2024-06-30T22:31:39.656Z"
   }
  ],
  "kernelspec": {
   "display_name": "Python 3 (ipykernel)",
   "language": "python",
   "name": "python3"
  },
  "language_info": {
   "codemirror_mode": {
    "name": "ipython",
    "version": 3
   },
   "file_extension": ".py",
   "mimetype": "text/x-python",
   "name": "python",
   "nbconvert_exporter": "python",
   "pygments_lexer": "ipython3",
   "version": "3.9.19"
  },
  "toc": {
   "base_numbering": 1,
   "nav_menu": {},
   "number_sections": true,
   "sideBar": true,
   "skip_h1_title": true,
   "title_cell": "Table of Contents",
   "title_sidebar": "Contents",
   "toc_cell": false,
   "toc_position": {},
   "toc_section_display": true,
   "toc_window_display": true
  }
 },
 "nbformat": 4,
 "nbformat_minor": 2
}
